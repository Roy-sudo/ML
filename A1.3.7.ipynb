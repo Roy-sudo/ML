{
 "cells": [
  {
   "cell_type": "markdown",
   "metadata": {
    "colab_type": "text",
    "id": "a_ivobV96rb6"
   },
   "source": [
    "Table of content:\n",
    "\n",
    "1. Variables\n",
    "2. Functions\n",
    "3. Strings\n",
    "4. Lists\n",
    "5. Dictionary\n",
    "6. Tuples\n",
    "7. Booleans\n",
    "8. Functions again\n",
    "9. Loops : for\n",
    "10. If statement\n",
    "11. While statement\n",
    "12. Libraries import\n",
    "13. Numpy\n",
    "14. Pandas"
   ]
  },
  {
   "cell_type": "markdown",
   "metadata": {
    "colab_type": "text",
    "id": "JsY7b6kj2V6n"
   },
   "source": [
    "## Python Tutorial\n",
    "\n",
    "\n",
    "Welcome to this Python tutorial. The Jupyter Notebook interface is composed of several cells, in which you can write some code. When you run a cell, the only lines executed are those in the cell. However, they are linked by a single kernel : it means that you can define a variable in a cell and use it in an other."
   ]
  },
  {
   "cell_type": "markdown",
   "metadata": {
    "colab_type": "text",
    "id": "s1Db1UdMC_S1"
   },
   "source": [
    "## 1) Variables"
   ]
  },
  {
   "cell_type": "markdown",
   "metadata": {
    "colab_type": "text",
    "id": "67NU_0Ui2V6p"
   },
   "source": [
    "To run a cell, select it and press \"execute\", or shift + enter. Try to run the following cell :"
   ]
  },
  {
   "cell_type": "code",
   "execution_count": 1,
   "metadata": {
    "colab": {
     "base_uri": "https://localhost:8080/",
     "height": 35
    },
    "colab_type": "code",
    "executionInfo": {
     "elapsed": 2257,
     "status": "ok",
     "timestamp": 1589457853953,
     "user": {
      "displayName": "Enock Kipkemboi",
      "photoUrl": "https://lh3.googleusercontent.com/a-/AOh14GizCzsQESXPA2F3fIxqQDEIPrYFkqYplrS9IJE=s64",
      "userId": "12001580697035227328"
     },
     "user_tz": -180
    },
    "id": "PBxM8E3x2V6p",
    "outputId": "3610c551-720a-43d7-ba7f-95a00e61e294"
   },
   "outputs": [
    {
     "name": "stdout",
     "output_type": "stream",
     "text": [
      "Congratulations\n"
     ]
    }
   ],
   "source": [
    "print(\"Congratulations\")"
   ]
  },
  {
   "cell_type": "markdown",
   "metadata": {
    "colab_type": "text",
    "id": "NmuKk4R62V6u"
   },
   "source": [
    "If your code includes some functions which should display some informations, this information will appear under the box, like with \"Congratulations\" in the previous example.\n",
    "\n",
    "#### &#x270d; 1.1) Display the number 13 and the message \"Python is great\""
   ]
  },
  {
   "cell_type": "code",
   "execution_count": 7,
   "metadata": {
    "colab": {
     "base_uri": "https://localhost:8080/",
     "height": 54
    },
    "colab_type": "code",
    "executionInfo": {
     "elapsed": 1329,
     "status": "ok",
     "timestamp": 1589457930663,
     "user": {
      "displayName": "Enock Kipkemboi",
      "photoUrl": "https://lh3.googleusercontent.com/a-/AOh14GizCzsQESXPA2F3fIxqQDEIPrYFkqYplrS9IJE=s64",
      "userId": "12001580697035227328"
     },
     "user_tz": -180
    },
    "id": "zTQun4752V6u",
    "outputId": "33bc4531-8cb3-45cb-e038-f892155f6c63"
   },
   "outputs": [
    {
     "name": "stdout",
     "output_type": "stream",
     "text": [
      "13\n",
      " Python is Great\n"
     ]
    }
   ],
   "source": [
    "a = 13\n",
    "print(a)\n",
    "print(\" Python is Great\")"
   ]
  },
  {
   "cell_type": "markdown",
   "metadata": {
    "colab_type": "text",
    "id": "c5mWgnQT2V6w"
   },
   "source": [
    "#### &#x270d; 1.2) Create the variables $a = 5$, $b = 5.2$ and $c = 3 + 2j$"
   ]
  },
  {
   "cell_type": "code",
   "execution_count": 8,
   "metadata": {
    "colab": {
     "base_uri": "https://localhost:8080/",
     "height": 54
    },
    "colab_type": "code",
    "executionInfo": {
     "elapsed": 1097,
     "status": "ok",
     "timestamp": 1589458001840,
     "user": {
      "displayName": "Enock Kipkemboi",
      "photoUrl": "https://lh3.googleusercontent.com/a-/AOh14GizCzsQESXPA2F3fIxqQDEIPrYFkqYplrS9IJE=s64",
      "userId": "12001580697035227328"
     },
     "user_tz": -180
    },
    "id": "6ZpJfwxc2V6y",
    "outputId": "d9abbe81-2b2f-4529-f458-9c1b1cb63e46"
   },
   "outputs": [],
   "source": [
    "a = 5\n",
    "b = 5.2\n",
    "c = 3 + 2j"
   ]
  },
  {
   "cell_type": "markdown",
   "metadata": {
    "colab_type": "text",
    "id": "hNmPf8qQ2V60"
   },
   "source": [
    "#### &#x270d; 1.3) Display $a$, $b$ and $c$ with the print function.  \n",
    "They can be displayed with only one call by separating them with commas in the brackets."
   ]
  },
  {
   "cell_type": "code",
   "execution_count": 9,
   "metadata": {
    "colab": {
     "base_uri": "https://localhost:8080/",
     "height": 35
    },
    "colab_type": "code",
    "executionInfo": {
     "elapsed": 968,
     "status": "ok",
     "timestamp": 1589458105731,
     "user": {
      "displayName": "Enock Kipkemboi",
      "photoUrl": "https://lh3.googleusercontent.com/a-/AOh14GizCzsQESXPA2F3fIxqQDEIPrYFkqYplrS9IJE=s64",
      "userId": "12001580697035227328"
     },
     "user_tz": -180
    },
    "id": "xAe0gdWl2V60",
    "outputId": "516def4c-f26c-44b5-d031-df04d8407ace"
   },
   "outputs": [
    {
     "name": "stdout",
     "output_type": "stream",
     "text": [
      "5 5.2 (3+2j)\n"
     ]
    }
   ],
   "source": [
    "print(a,b,c)"
   ]
  },
  {
   "cell_type": "markdown",
   "metadata": {
    "colab_type": "text",
    "id": "_yZ5_7lZ2V63"
   },
   "source": [
    "#### &#x270d; 1.4) Display $a + b$ and $b * c$ without saving the product in a variable."
   ]
  },
  {
   "cell_type": "code",
   "execution_count": 16,
   "metadata": {
    "colab": {
     "base_uri": "https://localhost:8080/",
     "height": 35
    },
    "colab_type": "code",
    "executionInfo": {
     "elapsed": 1273,
     "status": "ok",
     "timestamp": 1589458109010,
     "user": {
      "displayName": "Enock Kipkemboi",
      "photoUrl": "https://lh3.googleusercontent.com/a-/AOh14GizCzsQESXPA2F3fIxqQDEIPrYFkqYplrS9IJE=s64",
      "userId": "12001580697035227328"
     },
     "user_tz": -180
    },
    "id": "qvep96yc2V63",
    "outputId": "463ac28f-21b4-4bac-9f19-a0e8036b9bf9"
   },
   "outputs": [
    {
     "name": "stdout",
     "output_type": "stream",
     "text": [
      "10.2\n",
      "(15.600000000000001+10.4j)\n"
     ]
    }
   ],
   "source": [
    "print(a + b )\n",
    "print(b * c)"
   ]
  },
  {
   "cell_type": "markdown",
   "metadata": {
    "colab_type": "text",
    "id": "Gw57xJvo2V69"
   },
   "source": [
    "#### &#x270d; 1.5) Check the type of $a$, $b$, $c$, then display and show the type of :  \n",
    "$a + b$  \n",
    "$a * b$  \n",
    "$b - c$  \n",
    "$a + b + c$  \n",
    "$a * c$  \n",
    "$c / a$  "
   ]
  },
  {
   "cell_type": "code",
   "execution_count": 22,
   "metadata": {
    "colab": {
     "base_uri": "https://localhost:8080/",
     "height": 72
    },
    "colab_type": "code",
    "executionInfo": {
     "elapsed": 1784,
     "status": "ok",
     "timestamp": 1589458111953,
     "user": {
      "displayName": "Enock Kipkemboi",
      "photoUrl": "https://lh3.googleusercontent.com/a-/AOh14GizCzsQESXPA2F3fIxqQDEIPrYFkqYplrS9IJE=s64",
      "userId": "12001580697035227328"
     },
     "user_tz": -180
    },
    "id": "oAydjWpz2V6-",
    "outputId": "c293cbce-407c-40ad-cc73-82f00ba53d9a"
   },
   "outputs": [
    {
     "name": "stdout",
     "output_type": "stream",
     "text": [
      "<class 'int'>\n",
      "<class 'float'>\n",
      "<class 'complex'>\n",
      "<class 'float'>\n",
      "<class 'float'>\n",
      "<class 'complex'>\n",
      "<class 'complex'>\n",
      "<class 'complex'>\n",
      "<class 'complex'>\n"
     ]
    }
   ],
   "source": [
    "print(type(a))\n",
    "print(type(b))\n",
    "print(type(c))\n",
    "print(type(a + b))\n",
    "print(type(a * b))\n",
    "print(type(b + c))\n",
    "print(type(a + b + c))\n",
    "print(type(a * c))\n",
    "print(type(c/a))"
   ]
  },
  {
   "cell_type": "markdown",
   "metadata": {
    "colab_type": "text",
    "id": "13TKnM782V7A"
   },
   "source": [
    "## 2)Functions"
   ]
  },
  {
   "cell_type": "markdown",
   "metadata": {
    "colab_type": "text",
    "id": "ExItBUP5N5p_"
   },
   "source": [
    "#### &#x270d; 2.1) Save round(b) in a variable e, then display the type of :  \n",
    "$b$  \n",
    "$e$  \n",
    "round"
   ]
  },
  {
   "cell_type": "code",
   "execution_count": 2,
   "metadata": {
    "colab": {
     "base_uri": "https://localhost:8080/",
     "height": 54
    },
    "colab_type": "code",
    "executionInfo": {
     "elapsed": 1613,
     "status": "ok",
     "timestamp": 1589458116012,
     "user": {
      "displayName": "Enock Kipkemboi",
      "photoUrl": "https://lh3.googleusercontent.com/a-/AOh14GizCzsQESXPA2F3fIxqQDEIPrYFkqYplrS9IJE=s64",
      "userId": "12001580697035227328"
     },
     "user_tz": -180
    },
    "id": "hr3V7jJT2V7C",
    "outputId": "d3c383ae-1b03-4e83-f2cb-18d0da0dce4f"
   },
   "outputs": [
    {
     "name": "stdout",
     "output_type": "stream",
     "text": [
      "<class 'float'>\n",
      "<class 'int'>\n"
     ]
    }
   ],
   "source": [
    "b = 10.44555\n",
    "e = round(b)\n",
    "print(type(b))\n",
    "print(type(e))"
   ]
  },
  {
   "cell_type": "markdown",
   "metadata": {
    "colab_type": "text",
    "id": "ePe2RbG22V7E"
   },
   "source": [
    "#### &#x270d; 2.2) Create a function which takes as argument a value $x$, and returns $x + x^2$ (show how your function works with example)"
   ]
  },
  {
   "cell_type": "code",
   "execution_count": 12,
   "metadata": {
    "colab": {
     "base_uri": "https://localhost:8080/",
     "height": 35
    },
    "colab_type": "code",
    "executionInfo": {
     "elapsed": 1470,
     "status": "ok",
     "timestamp": 1589458118378,
     "user": {
      "displayName": "Enock Kipkemboi",
      "photoUrl": "https://lh3.googleusercontent.com/a-/AOh14GizCzsQESXPA2F3fIxqQDEIPrYFkqYplrS9IJE=s64",
      "userId": "12001580697035227328"
     },
     "user_tz": -180
    },
    "id": "4KoB5y6p2V7F",
    "outputId": "56e084d4-0fbc-44ad-830f-7ca7ef4fd03f"
   },
   "outputs": [
    {
     "name": "stdout",
     "output_type": "stream",
     "text": [
      "[2, 6, 12, 20, 30, 42, 56, 72, 90, 110, 132, 156, 182, 210, 240, 272, 306, 342, 380, 420]\n"
     ]
    }
   ],
   "source": [
    "# x = 20\n",
    "# val = (x + (x * x))\n",
    "# print(val)\n",
    "def printValues():\n",
    "    l = list()\n",
    "    for x in range(1,21):\n",
    "        l.append(x + (x*x))\n",
    "print(l)\n",
    "\t\t\n",
    "printValues()\n"
   ]
  },
  {
   "cell_type": "markdown",
   "metadata": {
    "colab_type": "text",
    "id": "K1dBTqj12V7I"
   },
   "source": [
    "#### &#x270d; 2.3) Create a function which takes as argument a value $x$, prints $x$, $2x$, $3x$, and returns $x - 1$. (show how your function works with example)"
   ]
  },
  {
   "cell_type": "code",
   "execution_count": 24,
   "metadata": {
    "colab": {
     "base_uri": "https://localhost:8080/",
     "height": 54
    },
    "colab_type": "code",
    "executionInfo": {
     "elapsed": 1260,
     "status": "ok",
     "timestamp": 1589458120382,
     "user": {
      "displayName": "Enock Kipkemboi",
      "photoUrl": "https://lh3.googleusercontent.com/a-/AOh14GizCzsQESXPA2F3fIxqQDEIPrYFkqYplrS9IJE=s64",
      "userId": "12001580697035227328"
     },
     "user_tz": -180
    },
    "id": "pw9BrwGk2V7I",
    "outputId": "69c4a509-05d0-4be3-feb7-1de6b6fcccbc"
   },
   "outputs": [
    {
     "name": "stdout",
     "output_type": "stream",
     "text": [
      "2\n",
      "4\n",
      "8\n"
     ]
    }
   ],
   "source": [
    "def f(x):\n",
    "       return x\n",
    "\n",
    "def g(x):\n",
    "        return x * 2\n",
    "def h(x):\n",
    "        return x ** 3\n",
    "\n",
    "print(f(2))\n",
    "print(g(2))\n",
    "print(h(2))\n"
   ]
  },
  {
   "cell_type": "markdown",
   "metadata": {
    "colab_type": "text",
    "id": "-eJ5zl4U2V7K"
   },
   "source": [
    "#### &#x270d; 2.4) Write down a function that takes $x$ and $y$ as the arguments, and returns a rounded value of $x$ multiplied by the value of $y$. (show how your function works with example)"
   ]
  },
  {
   "cell_type": "code",
   "execution_count": 29,
   "metadata": {
    "colab": {
     "base_uri": "https://localhost:8080/",
     "height": 35
    },
    "colab_type": "code",
    "executionInfo": {
     "elapsed": 1288,
     "status": "ok",
     "timestamp": 1589458122260,
     "user": {
      "displayName": "Enock Kipkemboi",
      "photoUrl": "https://lh3.googleusercontent.com/a-/AOh14GizCzsQESXPA2F3fIxqQDEIPrYFkqYplrS9IJE=s64",
      "userId": "12001580697035227328"
     },
     "user_tz": -180
    },
    "id": "uxY87wHM3F0l",
    "outputId": "5505643a-50c1-416f-f9c4-cd811fb0a3bf"
   },
   "outputs": [
    {
     "data": {
      "text/plain": [
       "16"
      ]
     },
     "execution_count": 29,
     "metadata": {},
     "output_type": "execute_result"
    }
   ],
   "source": [
    "def h(x,y):\n",
    "        return (round(x) * y)\n",
    "\n",
    "h(3.5452,4)"
   ]
  },
  {
   "cell_type": "markdown",
   "metadata": {
    "colab_type": "text",
    "id": "Znt8I_5zOfEU"
   },
   "source": [
    "## 3) Strings"
   ]
  },
  {
   "cell_type": "markdown",
   "metadata": {
    "colab_type": "text",
    "id": "43E67yZS2V7L"
   },
   "source": [
    "#### &#x270d; 3.1) Create a string called birthday containing your birthday."
   ]
  },
  {
   "cell_type": "code",
   "execution_count": 38,
   "metadata": {
    "colab": {},
    "colab_type": "code",
    "id": "CxPCC9Ku2V7L"
   },
   "outputs": [
    {
     "name": "stdout",
     "output_type": "stream",
     "text": [
      "my birthday is2000\n"
     ]
    }
   ],
   "source": [
    "birthday = ('2000')\n",
    "print(\"my birthday is\"  + birthday)"
   ]
  },
  {
   "cell_type": "markdown",
   "metadata": {
    "colab_type": "text",
    "id": "8Z_NhWbs2V7N"
   },
   "source": [
    "#### &#x270d; 3.2) Using a and b, create a string \"Hello my dear\" and print it."
   ]
  },
  {
   "cell_type": "code",
   "execution_count": 38,
   "metadata": {
    "colab": {
     "base_uri": "https://localhost:8080/",
     "height": 35
    },
    "colab_type": "code",
    "executionInfo": {
     "elapsed": 1595,
     "status": "ok",
     "timestamp": 1589458127728,
     "user": {
      "displayName": "Enock Kipkemboi",
      "photoUrl": "https://lh3.googleusercontent.com/a-/AOh14GizCzsQESXPA2F3fIxqQDEIPrYFkqYplrS9IJE=s64",
      "userId": "12001580697035227328"
     },
     "user_tz": -180
    },
    "id": "qS2K18l52V7O",
    "outputId": "0b5027b1-cb18-4d32-e63b-bc6718bf2f1e"
   },
   "outputs": [
    {
     "name": "stdout",
     "output_type": "stream",
     "text": [
      "hellomy dear\n"
     ]
    }
   ],
   "source": [
    "a = ('hello')\n",
    "b = ('my dear')\n",
    "print(a + b)"
   ]
  },
  {
   "cell_type": "markdown",
   "metadata": {
    "colab_type": "text",
    "id": "FZL8L-ac2V7Q"
   },
   "source": [
    "#### &#x270d; 3.3) Print the number of letters of a and b using the function len(string)"
   ]
  },
  {
   "cell_type": "code",
   "execution_count": 39,
   "metadata": {
    "colab": {
     "base_uri": "https://localhost:8080/",
     "height": 35
    },
    "colab_type": "code",
    "executionInfo": {
     "elapsed": 1436,
     "status": "ok",
     "timestamp": 1589458129661,
     "user": {
      "displayName": "Enock Kipkemboi",
      "photoUrl": "https://lh3.googleusercontent.com/a-/AOh14GizCzsQESXPA2F3fIxqQDEIPrYFkqYplrS9IJE=s64",
      "userId": "12001580697035227328"
     },
     "user_tz": -180
    },
    "id": "c4q3k-DN2V7Q",
    "outputId": "6887bfe6-92cc-4eb5-9dbb-42d38dab7140"
   },
   "outputs": [
    {
     "data": {
      "text/plain": [
       "12"
      ]
     },
     "execution_count": 39,
     "metadata": {},
     "output_type": "execute_result"
    }
   ],
   "source": [
    "len(a + b)"
   ]
  },
  {
   "cell_type": "markdown",
   "metadata": {
    "colab_type": "text",
    "id": "7mlMKXhi2V7S"
   },
   "source": [
    "A string can be included in the middle of another one using `%s`\n",
    "\n",
    "Example: \n",
    "\n",
    "`animal = \"beef\"`\n",
    "\n",
    "`action = \"love\"`\n",
    "\n",
    "`dream = \"i would %s to eat a %s\" %(action,animal)`\n",
    "\n",
    "`--> dream = \"i would love to eat a beef\"`"
   ]
  },
  {
   "cell_type": "markdown",
   "metadata": {
    "colab_type": "text",
    "id": "8R5zjJgAOzwg"
   },
   "source": [
    "#### &#x270d; 3.4) Create the string \"I am 30 years old and I live in Bogota\" using the following strings :"
   ]
  },
  {
   "cell_type": "code",
   "execution_count": 40,
   "metadata": {
    "colab": {
     "base_uri": "https://localhost:8080/",
     "height": 35
    },
    "colab_type": "code",
    "executionInfo": {
     "elapsed": 1458,
     "status": "ok",
     "timestamp": 1589458133642,
     "user": {
      "displayName": "Enock Kipkemboi",
      "photoUrl": "https://lh3.googleusercontent.com/a-/AOh14GizCzsQESXPA2F3fIxqQDEIPrYFkqYplrS9IJE=s64",
      "userId": "12001580697035227328"
     },
     "user_tz": -180
    },
    "id": "RAFnakuh2V7S",
    "outputId": "1ebee683-07a7-4ffa-bb78-f1d4e282295f"
   },
   "outputs": [
    {
     "name": "stdout",
     "output_type": "stream",
     "text": [
      "I am 30 years old and i live in bogota\n"
     ]
    }
   ],
   "source": [
    "age = (30)\n",
    "town = \"bogota\"\n",
    "profile = \"I am %s years old and i live in %s\"%(age,town)\n",
    "print(profile)"
   ]
  },
  {
   "cell_type": "markdown",
   "metadata": {
    "colab_type": "text",
    "id": "wljKuIfkPb23"
   },
   "source": [
    "## 4) Lists"
   ]
  },
  {
   "cell_type": "markdown",
   "metadata": {
    "colab_type": "text",
    "id": "j1k-e0uR2V7V"
   },
   "source": [
    "To create a list, you need to use `[ ]`. If you're using a mac, the command is alt + shift + `(` or `)` .\n"
   ]
  },
  {
   "cell_type": "markdown",
   "metadata": {
    "colab_type": "text",
    "id": "Ne1RSySuPVgm"
   },
   "source": [
    "#### &#x270d; 4.1) Create a list containing every letters from A to H, called letters."
   ]
  },
  {
   "cell_type": "code",
   "execution_count": 45,
   "metadata": {
    "colab": {},
    "colab_type": "code",
    "id": "ozm5HDhp2V7V"
   },
   "outputs": [
    {
     "name": "stdout",
     "output_type": "stream",
     "text": [
      "['A', 'B', 'C', 'D', 'E', 'F', 'G', 'H']\n"
     ]
    }
   ],
   "source": [
    "letters = [\"A\", \"B\", \"C\", \"D\", \"E\", \"F\", \"G\", \"H\"]\n",
    "print(letters)"
   ]
  },
  {
   "cell_type": "markdown",
   "metadata": {
    "colab_type": "text",
    "id": "r-xCZk3g2V7X"
   },
   "source": [
    "#### &#x270d; 4.2) Print the letter E using its index in the list letters.\n",
    "\n",
    "Remember : index of the first element is $0$."
   ]
  },
  {
   "cell_type": "code",
   "execution_count": 46,
   "metadata": {
    "colab": {
     "base_uri": "https://localhost:8080/",
     "height": 35
    },
    "colab_type": "code",
    "executionInfo": {
     "elapsed": 13614,
     "status": "ok",
     "timestamp": 1589458150385,
     "user": {
      "displayName": "Enock Kipkemboi",
      "photoUrl": "https://lh3.googleusercontent.com/a-/AOh14GizCzsQESXPA2F3fIxqQDEIPrYFkqYplrS9IJE=s64",
      "userId": "12001580697035227328"
     },
     "user_tz": -180
    },
    "id": "6treUGER2V7Y",
    "outputId": "043ada96-a8d3-4db0-a783-2ff18d8b9b94"
   },
   "outputs": [
    {
     "name": "stdout",
     "output_type": "stream",
     "text": [
      "E\n"
     ]
    }
   ],
   "source": [
    "print(letters[4])"
   ]
  },
  {
   "cell_type": "markdown",
   "metadata": {
    "colab_type": "text",
    "id": "8GgPgQHI2V7d"
   },
   "source": [
    "#### &#x270d; 4.3) Replace the letter G by Y in letters."
   ]
  },
  {
   "cell_type": "code",
   "execution_count": 47,
   "metadata": {
    "colab": {
     "base_uri": "https://localhost:8080/",
     "height": 35
    },
    "colab_type": "code",
    "executionInfo": {
     "elapsed": 12732,
     "status": "ok",
     "timestamp": 1589458150392,
     "user": {
      "displayName": "Enock Kipkemboi",
      "photoUrl": "https://lh3.googleusercontent.com/a-/AOh14GizCzsQESXPA2F3fIxqQDEIPrYFkqYplrS9IJE=s64",
      "userId": "12001580697035227328"
     },
     "user_tz": -180
    },
    "id": "qRnCgW5v2V7e",
    "outputId": "cda349cb-07cc-4adf-9d84-fdc499d8eb9e"
   },
   "outputs": [
    {
     "name": "stdout",
     "output_type": "stream",
     "text": [
      "['A', 'B', 'C', 'D', 'E', 'F', 'Y', 'H']\n"
     ]
    }
   ],
   "source": [
    "letters[6] = \"Y\"\n",
    "print(letters)"
   ]
  },
  {
   "cell_type": "markdown",
   "metadata": {
    "colab_type": "text",
    "id": "7LfnAQ902V7g"
   },
   "source": [
    "#### &#x270d; 4.4) Print the letter D in two different ways : once with its index, one with its index starting from the last element (negative index)."
   ]
  },
  {
   "cell_type": "code",
   "execution_count": 48,
   "metadata": {
    "colab": {
     "base_uri": "https://localhost:8080/",
     "height": 35
    },
    "colab_type": "code",
    "executionInfo": {
     "elapsed": 11639,
     "status": "ok",
     "timestamp": 1589458150396,
     "user": {
      "displayName": "Enock Kipkemboi",
      "photoUrl": "https://lh3.googleusercontent.com/a-/AOh14GizCzsQESXPA2F3fIxqQDEIPrYFkqYplrS9IJE=s64",
      "userId": "12001580697035227328"
     },
     "user_tz": -180
    },
    "id": "04dgCPX82V7h",
    "outputId": "0ec8114c-37cd-4718-ced5-84c7ff4e82bc"
   },
   "outputs": [
    {
     "name": "stdout",
     "output_type": "stream",
     "text": [
      "D\n",
      "D\n"
     ]
    }
   ],
   "source": [
    "print(letters[3])\n",
    "print(letters[-5])"
   ]
  },
  {
   "cell_type": "markdown",
   "metadata": {
    "colab_type": "text",
    "id": "Fo0yIH3I2V7j"
   },
   "source": [
    "#### &#x270d; 4.5) Add the letter P to the list letters, using the function letters.append()"
   ]
  },
  {
   "cell_type": "code",
   "execution_count": 49,
   "metadata": {
    "colab": {
     "base_uri": "https://localhost:8080/",
     "height": 35
    },
    "colab_type": "code",
    "executionInfo": {
     "elapsed": 10607,
     "status": "ok",
     "timestamp": 1589458150401,
     "user": {
      "displayName": "Enock Kipkemboi",
      "photoUrl": "https://lh3.googleusercontent.com/a-/AOh14GizCzsQESXPA2F3fIxqQDEIPrYFkqYplrS9IJE=s64",
      "userId": "12001580697035227328"
     },
     "user_tz": -180
    },
    "id": "0TNnI4L-2V7j",
    "outputId": "013ed48f-1a9f-4bc9-8017-319044d93399"
   },
   "outputs": [
    {
     "data": {
      "text/plain": [
       "['A', 'B', 'C', 'D', 'E', 'F', 'Y', 'H', 'P']"
      ]
     },
     "execution_count": 49,
     "metadata": {},
     "output_type": "execute_result"
    }
   ],
   "source": [
    "letters.append('P')\n",
    "letters"
   ]
  },
  {
   "cell_type": "markdown",
   "metadata": {
    "colab_type": "text",
    "id": "HflA48cM2V7n"
   },
   "source": [
    "#### &#x270d; 4.6) Create a sublist sublet = [\"A\",\"B\",\"C\"] from the list letters.\n",
    "\n",
    "Remember : list[i:j] creates a sublist from list starting from the i th element to the j-1 th element."
   ]
  },
  {
   "cell_type": "code",
   "execution_count": 50,
   "metadata": {
    "colab": {
     "base_uri": "https://localhost:8080/",
     "height": 35
    },
    "colab_type": "code",
    "executionInfo": {
     "elapsed": 9624,
     "status": "ok",
     "timestamp": 1589458150407,
     "user": {
      "displayName": "Enock Kipkemboi",
      "photoUrl": "https://lh3.googleusercontent.com/a-/AOh14GizCzsQESXPA2F3fIxqQDEIPrYFkqYplrS9IJE=s64",
      "userId": "12001580697035227328"
     },
     "user_tz": -180
    },
    "id": "4cnu6qF92V7o",
    "outputId": "ea578063-53ce-4c7b-caa6-7eb8176a2b8e"
   },
   "outputs": [
    {
     "data": {
      "text/plain": [
       "['A', 'B', 'C']"
      ]
     },
     "execution_count": 50,
     "metadata": {},
     "output_type": "execute_result"
    }
   ],
   "source": [
    "subset = letters[:3]\n",
    "subset"
   ]
  },
  {
   "cell_type": "markdown",
   "metadata": {
    "colab_type": "text",
    "id": "KKYap-Aj2V7p"
   },
   "source": [
    "#### &#x270d; 4.7) Concatenate letters and sublet into letters."
   ]
  },
  {
   "cell_type": "code",
   "execution_count": 51,
   "metadata": {
    "colab": {
     "base_uri": "https://localhost:8080/",
     "height": 35
    },
    "colab_type": "code",
    "executionInfo": {
     "elapsed": 8871,
     "status": "ok",
     "timestamp": 1589458150414,
     "user": {
      "displayName": "Enock Kipkemboi",
      "photoUrl": "https://lh3.googleusercontent.com/a-/AOh14GizCzsQESXPA2F3fIxqQDEIPrYFkqYplrS9IJE=s64",
      "userId": "12001580697035227328"
     },
     "user_tz": -180
    },
    "id": "yihePYx72V7q",
    "outputId": "51ddb277-1b25-4b1a-828c-6d7ba3b3fc6d"
   },
   "outputs": [
    {
     "name": "stdout",
     "output_type": "stream",
     "text": [
      "['A', 'B', 'C', 'A', 'B', 'C', 'D', 'E', 'F', 'Y', 'H', 'P']\n"
     ]
    }
   ],
   "source": [
    "conc = subset + letters\n",
    "print(conc)"
   ]
  },
  {
   "cell_type": "markdown",
   "metadata": {
    "colab_type": "text",
    "id": "ZwhtNJDb2V7s"
   },
   "source": [
    "#### &#x270d; 4.8)  Erase every occurence of C in letters.\n",
    "\n",
    "Remember : use list.remove(string) to delete every occurence of string in list."
   ]
  },
  {
   "cell_type": "code",
   "execution_count": 61,
   "metadata": {
    "colab": {},
    "colab_type": "code",
    "id": "7JJX4wgL2V7s"
   },
   "outputs": [
    {
     "name": "stdout",
     "output_type": "stream",
     "text": [
      "['A', 'B', 'C', 'A', 'B', 'C', 'D', 'E', 'F', 'Y', 'H', 'P']\n",
      "['A', 'B', 'A', 'B', 'C', 'D', 'E', 'F', 'Y', 'H', 'P']\n"
     ]
    }
   ],
   "source": [
    "conc = subset + letters\n",
    "print(conc)\n",
    "rem_char = \"C\"\n",
    "new_conc = conc.remove(rem_char)\n",
    "print(conc)\n"
   ]
  },
  {
   "cell_type": "markdown",
   "metadata": {
    "colab_type": "text",
    "id": "LmIEC-lX2V7u"
   },
   "source": [
    "#### &#x270d; 4.9) Erase the second occurence of A in letters.\n",
    "Remember : use list.pop(index) to delete the index th element."
   ]
  },
  {
   "cell_type": "code",
   "execution_count": 69,
   "metadata": {
    "colab": {
     "base_uri": "https://localhost:8080/",
     "height": 35
    },
    "colab_type": "code",
    "executionInfo": {
     "elapsed": 8646,
     "status": "ok",
     "timestamp": 1589458152446,
     "user": {
      "displayName": "Enock Kipkemboi",
      "photoUrl": "https://lh3.googleusercontent.com/a-/AOh14GizCzsQESXPA2F3fIxqQDEIPrYFkqYplrS9IJE=s64",
      "userId": "12001580697035227328"
     },
     "user_tz": -180
    },
    "id": "7zipSM-N2V7u",
    "outputId": "05dbce39-d337-40aa-93ef-e4fff12a7464"
   },
   "outputs": [
    {
     "name": "stdout",
     "output_type": "stream",
     "text": [
      "['A', 'B', 'C', 'D', 'E', 'F', 'Y', 'H', 'P']\n"
     ]
    }
   ],
   "source": [
    "conc.pop(0)\n",
    "print(conc)"
   ]
  },
  {
   "cell_type": "markdown",
   "metadata": {
    "colab_type": "text",
    "id": "mhs5Or40QmoR"
   },
   "source": [
    "## 5) Dictionary"
   ]
  },
  {
   "cell_type": "markdown",
   "metadata": {
    "colab_type": "text",
    "id": "JvexWMDm2V7w"
   },
   "source": [
    "Dictionaries are similiar to lists, but instead of accessing an element through its index, we can use some keywords, which can be of any type.\n",
    "When you create it, you indicate the keyword and then the associated variables.\n",
    "Try to print every variable of the following dict :"
   ]
  },
  {
   "cell_type": "code",
   "execution_count": 70,
   "metadata": {
    "colab": {},
    "colab_type": "code",
    "id": "2VRbbxvD2V7z"
   },
   "outputs": [],
   "source": [
    "dict = {'x' : 3, 'y' : True, 'z' : [False, 89], 5 : \"banana\",  True : False }"
   ]
  },
  {
   "cell_type": "markdown",
   "metadata": {
    "colab_type": "text",
    "id": "7NSwpTGc2V72"
   },
   "source": [
    "#### &#x270d; 5.1) A list of the keywords of dict can be accessed using the function `dict.keys()`, use it."
   ]
  },
  {
   "cell_type": "code",
   "execution_count": 71,
   "metadata": {
    "colab": {
     "base_uri": "https://localhost:8080/",
     "height": 35
    },
    "colab_type": "code",
    "executionInfo": {
     "elapsed": 6370,
     "status": "ok",
     "timestamp": 1589458152455,
     "user": {
      "displayName": "Enock Kipkemboi",
      "photoUrl": "https://lh3.googleusercontent.com/a-/AOh14GizCzsQESXPA2F3fIxqQDEIPrYFkqYplrS9IJE=s64",
      "userId": "12001580697035227328"
     },
     "user_tz": -180
    },
    "id": "Gjn__fei2V73",
    "outputId": "9e0042d6-cc8e-4db8-9e95-84198ed9c3a5"
   },
   "outputs": [
    {
     "data": {
      "text/plain": [
       "dict_keys(['x', 'y', 'z', 5, True])"
      ]
     },
     "execution_count": 71,
     "metadata": {},
     "output_type": "execute_result"
    }
   ],
   "source": [
    "dict.keys()"
   ]
  },
  {
   "cell_type": "markdown",
   "metadata": {
    "colab_type": "text",
    "id": "Qv5vK_vx2V75"
   },
   "source": [
    "#### &#x270d; 5.2) Add a new value False to dict, indexed by the keyword Banana.\n",
    "\n",
    "\n",
    "To add a new keyword, give the associated value as if the keyword already existed. Example:  \n",
    "\n",
    "`dict = {}`\n",
    "\n",
    "`dict[3] = \"hi\"`\n",
    "\n",
    "`--> dict = {3 : \"hi\"}`"
   ]
  },
  {
   "cell_type": "code",
   "execution_count": 72,
   "metadata": {
    "colab": {
     "base_uri": "https://localhost:8080/",
     "height": 55
    },
    "colab_type": "code",
    "executionInfo": {
     "elapsed": 5408,
     "status": "ok",
     "timestamp": 1589458152462,
     "user": {
      "displayName": "Enock Kipkemboi",
      "photoUrl": "https://lh3.googleusercontent.com/a-/AOh14GizCzsQESXPA2F3fIxqQDEIPrYFkqYplrS9IJE=s64",
      "userId": "12001580697035227328"
     },
     "user_tz": -180
    },
    "id": "vHPVgmnm2V77",
    "outputId": "4e9f8bcb-7fa3-48a7-d2f4-40eeb042513c"
   },
   "outputs": [
    {
     "data": {
      "text/plain": [
       "{3: 'banana'}"
      ]
     },
     "execution_count": 72,
     "metadata": {},
     "output_type": "execute_result"
    }
   ],
   "source": [
    "dict = {}\n",
    "dict[3] = 'banana'\n",
    "dict"
   ]
  },
  {
   "cell_type": "markdown",
   "metadata": {
    "colab_type": "text",
    "id": "746oSmvz2V79"
   },
   "source": [
    "#### &#x270d; 5.3) Delete the key `y` from dict.\n",
    "\n",
    "You can use `dict.pop(key)` to do that."
   ]
  },
  {
   "cell_type": "code",
   "execution_count": 73,
   "metadata": {
    "colab": {
     "base_uri": "https://localhost:8080/",
     "height": 35
    },
    "colab_type": "code",
    "executionInfo": {
     "elapsed": 6749,
     "status": "ok",
     "timestamp": 1589458154678,
     "user": {
      "displayName": "Enock Kipkemboi",
      "photoUrl": "https://lh3.googleusercontent.com/a-/AOh14GizCzsQESXPA2F3fIxqQDEIPrYFkqYplrS9IJE=s64",
      "userId": "12001580697035227328"
     },
     "user_tz": -180
    },
    "id": "Uldwfv962V79",
    "outputId": "8a3c72ad-7293-4d83-cd3a-bb80ae182ca1"
   },
   "outputs": [
    {
     "data": {
      "text/plain": [
       "'banana'"
      ]
     },
     "execution_count": 73,
     "metadata": {},
     "output_type": "execute_result"
    }
   ],
   "source": [
    "dict.pop(3)"
   ]
  },
  {
   "cell_type": "markdown",
   "metadata": {
    "colab_type": "text",
    "id": "xk1DuWuM2V7_"
   },
   "source": [
    "#### &#x270d; 5.4) Try to delete the key `g`, which is not in dict."
   ]
  },
  {
   "cell_type": "code",
   "execution_count": 182,
   "metadata": {
    "colab": {
     "base_uri": "https://localhost:8080/",
     "height": 194
    },
    "colab_type": "code",
    "executionInfo": {
     "elapsed": 5844,
     "status": "error",
     "timestamp": 1589458154681,
     "user": {
      "displayName": "Enock Kipkemboi",
      "photoUrl": "https://lh3.googleusercontent.com/a-/AOh14GizCzsQESXPA2F3fIxqQDEIPrYFkqYplrS9IJE=s64",
      "userId": "12001580697035227328"
     },
     "user_tz": -180
    },
    "id": "lSyDVXH02V7_",
    "outputId": "2ee7ced7-f82a-4327-d1fc-9a4545ec9999"
   },
   "outputs": [
    {
     "ename": "SyntaxError",
     "evalue": "invalid syntax (<ipython-input-182-5c4707f94ab7>, line 1)",
     "output_type": "error",
     "traceback": [
      "\u001b[1;36m  File \u001b[1;32m\"<ipython-input-182-5c4707f94ab7>\"\u001b[1;36m, line \u001b[1;32m1\u001b[0m\n\u001b[1;33m    dict.del('g')\u001b[0m\n\u001b[1;37m           ^\u001b[0m\n\u001b[1;31mSyntaxError\u001b[0m\u001b[1;31m:\u001b[0m invalid syntax\n"
     ]
    }
   ],
   "source": [
    "dict.del('g')"
   ]
  },
  {
   "cell_type": "markdown",
   "metadata": {
    "colab_type": "text",
    "id": "hgi1IeB_2V8E"
   },
   "source": [
    "As you can see, instead of just ignoring the command, an error is returned. If you do not want the program to be stopped if the value is not existing, you can add another action to be performed if the key does not exist. It must be written as second parameter.\n",
    "\n",
    "Addding None as second parameter prevents the program from being stopped by an unexisting key."
   ]
  },
  {
   "cell_type": "markdown",
   "metadata": {
    "colab_type": "text",
    "id": "ygQmGHxlRzbC"
   },
   "source": [
    "#### &#x270d; 5.5) Check this with the previous example."
   ]
  },
  {
   "cell_type": "code",
   "execution_count": 184,
   "metadata": {
    "colab": {
     "base_uri": "https://localhost:8080/",
     "height": 35
    },
    "colab_type": "code",
    "executionInfo": {
     "elapsed": 1001,
     "status": "ok",
     "timestamp": 1589458169989,
     "user": {
      "displayName": "Enock Kipkemboi",
      "photoUrl": "https://lh3.googleusercontent.com/a-/AOh14GizCzsQESXPA2F3fIxqQDEIPrYFkqYplrS9IJE=s64",
      "userId": "12001580697035227328"
     },
     "user_tz": -180
    },
    "id": "iArPVZ3-2V8F",
    "outputId": "4051a224-2240-4a4b-e533-cf1a3bdc6f55"
   },
   "outputs": [
    {
     "ename": "SyntaxError",
     "evalue": "invalid syntax (<ipython-input-184-e8a6b18a6de4>, line 1)",
     "output_type": "error",
     "traceback": [
      "\u001b[1;36m  File \u001b[1;32m\"<ipython-input-184-e8a6b18a6de4>\"\u001b[1;36m, line \u001b[1;32m1\u001b[0m\n\u001b[1;33m    del('g', None='True')\u001b[0m\n\u001b[1;37m                 ^\u001b[0m\n\u001b[1;31mSyntaxError\u001b[0m\u001b[1;31m:\u001b[0m invalid syntax\n"
     ]
    }
   ],
   "source": [
    "del('g', None='True')"
   ]
  },
  {
   "cell_type": "markdown",
   "metadata": {
    "colab_type": "text",
    "id": "PQp1gI4D2V8J"
   },
   "source": [
    "## 6) Tuples\n",
    "Tuples are very similar to lists, except their shape cannot be changed."
   ]
  },
  {
   "cell_type": "markdown",
   "metadata": {
    "colab_type": "text",
    "id": "472qJiIBSC5q"
   },
   "source": [
    "#### &#x270d; 6.1) Create a tuple containing the integers from 5 to 9 and a tuple containing the integers from 1 to 4. Use ( ) to create them."
   ]
  },
  {
   "cell_type": "code",
   "execution_count": 79,
   "metadata": {
    "colab": {},
    "colab_type": "code",
    "id": "g3v5kZUC2V8K"
   },
   "outputs": [
    {
     "name": "stdout",
     "output_type": "stream",
     "text": [
      "(5, 6, 7, 8, 9)\n"
     ]
    },
    {
     "data": {
      "text/plain": [
       "(1, 2, 3, 4)"
      ]
     },
     "execution_count": 79,
     "metadata": {},
     "output_type": "execute_result"
    }
   ],
   "source": [
    "int = (5,6,7,8,9)\n",
    "print(int)\n",
    "integer = (1,2,3,4)\n",
    "integer"
   ]
  },
  {
   "cell_type": "markdown",
   "metadata": {
    "colab_type": "text",
    "id": "a68KVYz82V8L"
   },
   "source": [
    "#### &#x270d; 6.2) Try to sum up these tuples."
   ]
  },
  {
   "cell_type": "code",
   "execution_count": 80,
   "metadata": {
    "colab": {
     "base_uri": "https://localhost:8080/",
     "height": 35
    },
    "colab_type": "code",
    "executionInfo": {
     "elapsed": 734,
     "status": "ok",
     "timestamp": 1589458176890,
     "user": {
      "displayName": "Enock Kipkemboi",
      "photoUrl": "https://lh3.googleusercontent.com/a-/AOh14GizCzsQESXPA2F3fIxqQDEIPrYFkqYplrS9IJE=s64",
      "userId": "12001580697035227328"
     },
     "user_tz": -180
    },
    "id": "yz5Mx9rE2V8M",
    "outputId": "6d5630d1-6896-4fcc-85cd-d261772d5012"
   },
   "outputs": [
    {
     "data": {
      "text/plain": [
       "(5, 6, 7, 8, 9, 1, 2, 3, 4)"
      ]
     },
     "execution_count": 80,
     "metadata": {},
     "output_type": "execute_result"
    }
   ],
   "source": [
    "sum = int + integer\n",
    "sum"
   ]
  },
  {
   "cell_type": "markdown",
   "metadata": {
    "colab_type": "text",
    "id": "hNZow_Wo2V8O"
   },
   "source": [
    "#### &#x270d; 6.3) Print the 5th element of the sum, using two different ways."
   ]
  },
  {
   "cell_type": "code",
   "execution_count": 81,
   "metadata": {
    "colab": {
     "base_uri": "https://localhost:8080/"
    },
    "colab_type": "code",
    "executionInfo": {
     "elapsed": 37221,
     "status": "ok",
     "timestamp": 1589458250120,
     "user": {
      "displayName": "Enock Kipkemboi",
      "photoUrl": "https://lh3.googleusercontent.com/a-/AOh14GizCzsQESXPA2F3fIxqQDEIPrYFkqYplrS9IJE=s64",
      "userId": "12001580697035227328"
     },
     "user_tz": -180
    },
    "id": "K-rIt8002V8O",
    "outputId": "d99f1150-3600-4f0f-bc9f-950eef2c717a"
   },
   "outputs": [
    {
     "name": "stdout",
     "output_type": "stream",
     "text": [
      "1\n"
     ]
    },
    {
     "data": {
      "text/plain": [
       "1"
      ]
     },
     "execution_count": 81,
     "metadata": {},
     "output_type": "execute_result"
    }
   ],
   "source": [
    "print(sum[5])\n",
    "\n",
    "sum[-4]"
   ]
  },
  {
   "cell_type": "markdown",
   "metadata": {
    "colab_type": "text",
    "id": "Q2_9-w_3Sbk1"
   },
   "source": [
    "## 7) Booleans\n"
   ]
  },
  {
   "cell_type": "markdown",
   "metadata": {
    "colab_type": "text",
    "id": "Mf7J8QrT2V8P"
   },
   "source": [
    "#### &#x270d; 7.1) Create two booleans `a = True` and `b = False`, and check the result of every combination of `a` and `b` with the logical operators `and` / `or`."
   ]
  },
  {
   "cell_type": "code",
   "execution_count": 90,
   "metadata": {
    "colab": {
     "base_uri": "https://localhost:8080/"
    },
    "colab_type": "code",
    "executionInfo": {
     "elapsed": 33656,
     "status": "ok",
     "timestamp": 1589458250131,
     "user": {
      "displayName": "Enock Kipkemboi",
      "photoUrl": "https://lh3.googleusercontent.com/a-/AOh14GizCzsQESXPA2F3fIxqQDEIPrYFkqYplrS9IJE=s64",
      "userId": "12001580697035227328"
     },
     "user_tz": -180
    },
    "id": "WGo_VZR12V8Q",
    "outputId": "658ae159-8e1f-43d2-909c-decabfc54c5f"
   },
   "outputs": [],
   "source": [
    "colors = [\"blue\", \"green\"]\n",
    "\n",
    "if \"red\"  in colors:\n",
    "    print(blue & green)"
   ]
  },
  {
   "cell_type": "markdown",
   "metadata": {
    "colab_type": "text",
    "id": "h0X8MVGq2V8S"
   },
   "source": [
    "#### &#x270d; 7.2) To invert a boolean, use the function not. Check the result of \"not a or b\""
   ]
  },
  {
   "cell_type": "code",
   "execution_count": 87,
   "metadata": {
    "colab": {
     "base_uri": "https://localhost:8080/"
    },
    "colab_type": "code",
    "executionInfo": {
     "elapsed": 27554,
     "status": "ok",
     "timestamp": 1589458250143,
     "user": {
      "displayName": "Enock Kipkemboi",
      "photoUrl": "https://lh3.googleusercontent.com/a-/AOh14GizCzsQESXPA2F3fIxqQDEIPrYFkqYplrS9IJE=s64",
      "userId": "12001580697035227328"
     },
     "user_tz": -180
    },
    "id": "o-juzV4V2V8T",
    "outputId": "cea005e9-693a-4d1a-9535-f10151177851"
   },
   "outputs": [
    {
     "name": "stdout",
     "output_type": "stream",
     "text": [
      "True\n"
     ]
    }
   ],
   "source": [
    "colors = [\"blue\", \"green\"]\n",
    "\n",
    "if \"red\" not in colors:\n",
    "    print(True)"
   ]
  },
  {
   "cell_type": "markdown",
   "metadata": {
    "colab_type": "text",
    "id": "gzQGCga-2V8V"
   },
   "source": [
    "#### &#x270d; 7.3) Check how to use the different logical operators :  \n",
    "equals ==  \n",
    "less than <  \n",
    "more than >    \n",
    "less or equal <=\n",
    "more or equal >=\n",
    "\n"
   ]
  },
  {
   "cell_type": "code",
   "execution_count": 104,
   "metadata": {
    "colab": {
     "base_uri": "https://localhost:8080/"
    },
    "colab_type": "code",
    "executionInfo": {
     "elapsed": 25310,
     "status": "ok",
     "timestamp": 1589458250156,
     "user": {
      "displayName": "Enock Kipkemboi",
      "photoUrl": "https://lh3.googleusercontent.com/a-/AOh14GizCzsQESXPA2F3fIxqQDEIPrYFkqYplrS9IJE=s64",
      "userId": "12001580697035227328"
     },
     "user_tz": -180
    },
    "id": "gWEoNxQJ2V8c",
    "outputId": "61f58821-d44f-4cc7-c4d7-59e1b0d9cc61"
   },
   "outputs": [
    {
     "name": "stdout",
     "output_type": "stream",
     "text": [
      "True\n",
      "False\n",
      "False\n",
      "True\n",
      "False\n"
     ]
    }
   ],
   "source": [
    "print(10 > 9)\n",
    "print(10 == 9)\n",
    "print(10 < 9)\n",
    "print(10 >= 9)\n",
    "print(10 <= 9)"
   ]
  },
  {
   "cell_type": "markdown",
   "metadata": {
    "colab_type": "text",
    "id": "5cCFKi2D2V8e"
   },
   "source": [
    "#### &#x270d; 7.4) Create a the boolean which indicates if 3 in in the list \"list\" or not.\n",
    "\n",
    "Use the function in :  `a in list = True` if a is in list and `False` otherwise."
   ]
  },
  {
   "cell_type": "code",
   "execution_count": 96,
   "metadata": {
    "colab": {
     "base_uri": "https://localhost:8080/"
    },
    "colab_type": "code",
    "executionInfo": {
     "elapsed": 23544,
     "status": "ok",
     "timestamp": 1589458250161,
     "user": {
      "displayName": "Enock Kipkemboi",
      "photoUrl": "https://lh3.googleusercontent.com/a-/AOh14GizCzsQESXPA2F3fIxqQDEIPrYFkqYplrS9IJE=s64",
      "userId": "12001580697035227328"
     },
     "user_tz": -180
    },
    "id": "J5QLsCJD2V8e",
    "outputId": "444a8d33-547d-4a57-fd1f-dfa04bdca050"
   },
   "outputs": [
    {
     "name": "stdout",
     "output_type": "stream",
     "text": [
      "True\n"
     ]
    }
   ],
   "source": [
    "# list = ['a', 'b', 'c', 'd']\n",
    "# a in list \n",
    "list = (1,2,3,4,5,6,7,8)\n",
    "if 3  in list:\n",
    "    print(True)\n",
    "else:\n",
    "        print(False)\n"
   ]
  },
  {
   "cell_type": "markdown",
   "metadata": {
    "colab_type": "text",
    "id": "MYtKqwjmdg7Y"
   },
   "source": [
    "## 8) Functions again"
   ]
  },
  {
   "cell_type": "markdown",
   "metadata": {
    "colab_type": "text",
    "id": "6PInLL072V8f"
   },
   "source": [
    "\n",
    "Once created, a function is used only if it is called.\n",
    "\n",
    "Here, the function square returns the squared value of the input.\n",
    "\n",
    "#### &#x270d; 8.1) Try to print the squared value of 5 using the square function below."
   ]
  },
  {
   "cell_type": "code",
   "execution_count": 97,
   "metadata": {
    "colab": {
     "base_uri": "https://localhost:8080/"
    },
    "colab_type": "code",
    "executionInfo": {
     "elapsed": 18528,
     "status": "ok",
     "timestamp": 1589458250166,
     "user": {
      "displayName": "Enock Kipkemboi",
      "photoUrl": "https://lh3.googleusercontent.com/a-/AOh14GizCzsQESXPA2F3fIxqQDEIPrYFkqYplrS9IJE=s64",
      "userId": "12001580697035227328"
     },
     "user_tz": -180
    },
    "id": "wNQaCXcY2V8g",
    "outputId": "eac37aad-c46b-4dd3-8591-23cf6789db41"
   },
   "outputs": [
    {
     "name": "stdout",
     "output_type": "stream",
     "text": [
      "25\n"
     ]
    }
   ],
   "source": [
    "def square(n):\n",
    "    result = n**2\n",
    "    return(result)\n",
    "\n",
    "    \n",
    "print(square(5))\n"
   ]
  },
  {
   "cell_type": "code",
   "execution_count": null,
   "metadata": {
    "colab": {
     "base_uri": "https://localhost:8080/",
     "height": 34
    },
    "colab_type": "code",
    "executionInfo": {
     "elapsed": 734,
     "status": "ok",
     "timestamp": 1589480979344,
     "user": {
      "displayName": "Sami Farooqui",
      "photoUrl": "",
      "userId": "08939040234847460252"
     },
     "user_tz": 240
    },
    "id": "bmjvG1f_b6qA",
    "outputId": "7283ddb4-6576-4ea1-9fd1-d15484882835"
   },
   "outputs": [],
   "source": []
  },
  {
   "cell_type": "markdown",
   "metadata": {
    "colab_type": "text",
    "id": "C66rKz4D2V8j"
   },
   "source": [
    "The \"return\" word is very important when you define a function, for two reasons. First, it allows to tell what will be the output of the function. Second, this word means that we are at the end of the function, so the next lines do not need to be read."
   ]
  },
  {
   "cell_type": "markdown",
   "metadata": {
    "colab_type": "text",
    "id": "DeQVexwud80Y"
   },
   "source": [
    "#### &#x270d; 8.2) Create a function `square2(n)` identical to `square(n)` without the `return(result)` line and see what happens if you try to compute `square2(5)`."
   ]
  },
  {
   "cell_type": "code",
   "execution_count": 109,
   "metadata": {
    "colab": {
     "base_uri": "https://localhost:8080/"
    },
    "colab_type": "code",
    "executionInfo": {
     "elapsed": 14915,
     "status": "ok",
     "timestamp": 1589458250171,
     "user": {
      "displayName": "Enock Kipkemboi",
      "photoUrl": "https://lh3.googleusercontent.com/a-/AOh14GizCzsQESXPA2F3fIxqQDEIPrYFkqYplrS9IJE=s64",
      "userId": "12001580697035227328"
     },
     "user_tz": -180
    },
    "id": "-b7tpkhj2V8j",
    "outputId": "69402229-6147-46be-8c97-934f12797209"
   },
   "outputs": [
    {
     "name": "stdout",
     "output_type": "stream",
     "text": [
      "25\n"
     ]
    }
   ],
   "source": [
    "def square2(n):\n",
    "    result = n**2\n",
    "    \n",
    "\n",
    "    \n",
    "print(square(5))"
   ]
  },
  {
   "cell_type": "markdown",
   "metadata": {
    "colab_type": "text",
    "id": "2_VhiacO2V8m"
   },
   "source": [
    "#### &#x270d; 8.3) Create a function `square3(n)` identical to `square(n)` with one more line `print(\"hi\")` after `return(result)` and see what happens if you try to compute `square3(5)`."
   ]
  },
  {
   "cell_type": "code",
   "execution_count": 98,
   "metadata": {
    "colab": {
     "base_uri": "https://localhost:8080/",
     "height": 51
    },
    "colab_type": "code",
    "executionInfo": {
     "elapsed": 694,
     "status": "ok",
     "timestamp": 1589481026134,
     "user": {
      "displayName": "Sami Farooqui",
      "photoUrl": "",
      "userId": "08939040234847460252"
     },
     "user_tz": 240
    },
    "id": "mOBkXBgC2V8n",
    "outputId": "d0318ca4-3bf1-461b-dca1-2c1660a735d5"
   },
   "outputs": [
    {
     "name": "stdout",
     "output_type": "stream",
     "text": [
      "hi\n",
      "25\n"
     ]
    }
   ],
   "source": [
    "def square3(n):\n",
    "    result = n**2\n",
    "    return(result)\n",
    "print(\"hi\")\n",
    "\n",
    "    \n",
    "print(square3(5))"
   ]
  },
  {
   "cell_type": "markdown",
   "metadata": {
    "colab_type": "text",
    "id": "pxQ8bQR-2V8o"
   },
   "source": [
    "#### &#x270d; 8.4) Create a function `firstandlast(l)` which returns a tuple containing the first and the last elements of `l`, a list input.\n",
    "Try it on the list test."
   ]
  },
  {
   "cell_type": "code",
   "execution_count": 111,
   "metadata": {
    "colab": {
     "base_uri": "https://localhost:8080/"
    },
    "colab_type": "code",
    "executionInfo": {
     "elapsed": 6293,
     "status": "ok",
     "timestamp": 1589458250181,
     "user": {
      "displayName": "Enock Kipkemboi",
      "photoUrl": "https://lh3.googleusercontent.com/a-/AOh14GizCzsQESXPA2F3fIxqQDEIPrYFkqYplrS9IJE=s64",
      "userId": "12001580697035227328"
     },
     "user_tz": -180
    },
    "id": "0kcY-eZn2V8p",
    "outputId": "0d867976-c3fd-4581-b756-d1cd5a8531fe"
   },
   "outputs": [
    {
     "ename": "TypeError",
     "evalue": "'tuple' object is not callable",
     "output_type": "error",
     "traceback": [
      "\u001b[1;31m---------------------------------------------------------------------------\u001b[0m",
      "\u001b[1;31mTypeError\u001b[0m                                 Traceback (most recent call last)",
      "\u001b[1;32m<ipython-input-111-23698f646bc6>\u001b[0m in \u001b[0;36m<module>\u001b[1;34m\u001b[0m\n\u001b[0;32m      6\u001b[0m     \u001b[0mprint\u001b[0m\u001b[1;33m(\u001b[0m\u001b[0ml\u001b[0m\u001b[1;33m[\u001b[0m\u001b[1;33m-\u001b[0m\u001b[1;36m5\u001b[0m\u001b[1;33m:\u001b[0m\u001b[1;33m]\u001b[0m\u001b[1;33m)\u001b[0m\u001b[1;33m\u001b[0m\u001b[1;33m\u001b[0m\u001b[0m\n\u001b[0;32m      7\u001b[0m \u001b[1;33m\u001b[0m\u001b[0m\n\u001b[1;32m----> 8\u001b[1;33m \u001b[0mprintValues\u001b[0m\u001b[1;33m(\u001b[0m\u001b[1;33m)\u001b[0m\u001b[1;33m\u001b[0m\u001b[1;33m\u001b[0m\u001b[0m\n\u001b[0m",
      "\u001b[1;32m<ipython-input-111-23698f646bc6>\u001b[0m in \u001b[0;36mprintValues\u001b[1;34m()\u001b[0m\n\u001b[0;32m      1\u001b[0m \u001b[1;32mdef\u001b[0m \u001b[0mprintValues\u001b[0m\u001b[1;33m(\u001b[0m\u001b[1;33m)\u001b[0m\u001b[1;33m:\u001b[0m\u001b[1;33m\u001b[0m\u001b[1;33m\u001b[0m\u001b[0m\n\u001b[1;32m----> 2\u001b[1;33m     \u001b[0ml\u001b[0m \u001b[1;33m=\u001b[0m \u001b[0mlist\u001b[0m\u001b[1;33m(\u001b[0m\u001b[1;33m)\u001b[0m\u001b[1;33m\u001b[0m\u001b[1;33m\u001b[0m\u001b[0m\n\u001b[0m\u001b[0;32m      3\u001b[0m     \u001b[1;32mfor\u001b[0m \u001b[0mi\u001b[0m \u001b[1;32min\u001b[0m \u001b[0mrange\u001b[0m\u001b[1;33m(\u001b[0m\u001b[1;36m1\u001b[0m\u001b[1;33m,\u001b[0m\u001b[1;36m21\u001b[0m\u001b[1;33m)\u001b[0m\u001b[1;33m:\u001b[0m\u001b[1;33m\u001b[0m\u001b[1;33m\u001b[0m\u001b[0m\n\u001b[0;32m      4\u001b[0m         \u001b[0ml\u001b[0m\u001b[1;33m.\u001b[0m\u001b[0mappend\u001b[0m\u001b[1;33m(\u001b[0m\u001b[0mi\u001b[0m\u001b[1;33m**\u001b[0m\u001b[1;36m2\u001b[0m\u001b[1;33m)\u001b[0m\u001b[1;33m\u001b[0m\u001b[1;33m\u001b[0m\u001b[0m\n\u001b[0;32m      5\u001b[0m     \u001b[0mprint\u001b[0m\u001b[1;33m(\u001b[0m\u001b[0ml\u001b[0m\u001b[1;33m[\u001b[0m\u001b[1;33m:\u001b[0m\u001b[1;36m5\u001b[0m\u001b[1;33m]\u001b[0m\u001b[1;33m)\u001b[0m\u001b[1;33m\u001b[0m\u001b[1;33m\u001b[0m\u001b[0m\n",
      "\u001b[1;31mTypeError\u001b[0m: 'tuple' object is not callable"
     ]
    }
   ],
   "source": [
    "def printValues():\n",
    "    l = list()\n",
    "    for i in range(1,21):\n",
    "        l.append(i**2)\n",
    "    print(l[:5])\n",
    "    print(l[-5:])\n",
    "\n",
    "printValues()\n"
   ]
  },
  {
   "cell_type": "markdown",
   "metadata": {
    "colab_type": "text",
    "id": "uPeFvEpaelL0"
   },
   "source": [
    "Once a function is created, it can be called even in the definition of an other function."
   ]
  },
  {
   "cell_type": "markdown",
   "metadata": {
    "colab_type": "text",
    "id": "mTymWq9T2V8s"
   },
   "source": [
    "#### &#x270d; 8.5) Create a function `sumoffandl` which takes as input a list, and returns the sum of its first and last terms. Use the `firstandlast(n)` function."
   ]
  },
  {
   "cell_type": "code",
   "execution_count": null,
   "metadata": {
    "colab": {
     "base_uri": "https://localhost:8080/",
     "height": 35
    },
    "colab_type": "code",
    "executionInfo": {
     "elapsed": 4871,
     "status": "ok",
     "timestamp": 1589458251111,
     "user": {
      "displayName": "Enock Kipkemboi",
      "photoUrl": "https://lh3.googleusercontent.com/a-/AOh14GizCzsQESXPA2F3fIxqQDEIPrYFkqYplrS9IJE=s64",
      "userId": "12001580697035227328"
     },
     "user_tz": -180
    },
    "id": "GDWZq5D82V8s",
    "outputId": "d83ee413-40a2-4bfe-ea17-ca247c0aebc2"
   },
   "outputs": [],
   "source": []
  },
  {
   "cell_type": "markdown",
   "metadata": {
    "colab_type": "text",
    "id": "b7FD3_MVe1pO"
   },
   "source": [
    "## 9) Loops : `for`\n"
   ]
  },
  {
   "cell_type": "markdown",
   "metadata": {
    "colab_type": "text",
    "id": "BVVstQ7V2V8u"
   },
   "source": [
    "Run the following code and watch the syntaxe of the For loop function"
   ]
  },
  {
   "cell_type": "code",
   "execution_count": 112,
   "metadata": {
    "colab": {
     "base_uri": "https://localhost:8080/",
     "height": 119
    },
    "colab_type": "code",
    "executionInfo": {
     "elapsed": 622,
     "status": "ok",
     "timestamp": 1589481272326,
     "user": {
      "displayName": "Sami Farooqui",
      "photoUrl": "",
      "userId": "08939040234847460252"
     },
     "user_tz": 240
    },
    "id": "kLHIepdE2V8u",
    "outputId": "fdd5b0ec-052b-4af9-e72f-107532cc06e6"
   },
   "outputs": [
    {
     "name": "stdout",
     "output_type": "stream",
     "text": [
      "2\n",
      "5\n",
      "4\n",
      "2\n",
      "8\n",
      "20\n"
     ]
    }
   ],
   "source": [
    "my_list = [2,5,4,2,8,20]\n",
    "for x in my_list:\n",
    "    print(x)"
   ]
  },
  {
   "cell_type": "markdown",
   "metadata": {
    "colab_type": "text",
    "id": "hJVFi0_t2V8v"
   },
   "source": [
    "#### &#x270d; 9.1) Now try your own loop : compute the sum of the terms of the list `my_list` with a for loop."
   ]
  },
  {
   "cell_type": "code",
   "execution_count": 118,
   "metadata": {
    "colab": {
     "base_uri": "https://localhost:8080/",
     "height": 34
    },
    "colab_type": "code",
    "executionInfo": {
     "elapsed": 572,
     "status": "ok",
     "timestamp": 1589481273921,
     "user": {
      "displayName": "Sami Farooqui",
      "photoUrl": "",
      "userId": "08939040234847460252"
     },
     "user_tz": 240
    },
    "id": "NlqsS8oI2V8w",
    "outputId": "24bf45dc-4013-4230-d724-1e743db12fed"
   },
   "outputs": [
    {
     "name": "stdout",
     "output_type": "stream",
     "text": [
      "4\n",
      "10\n",
      "8\n",
      "4\n",
      "16\n",
      "40\n"
     ]
    }
   ],
   "source": [
    "list = [2,5,4,2,8,20]\n",
    "for x in list:\n",
    "    print(x + x)"
   ]
  },
  {
   "cell_type": "markdown",
   "metadata": {
    "colab_type": "text",
    "id": "2CTUfxF32V8x"
   },
   "source": [
    "When we want to iterate on some integers, we use the range function : \n",
    "\n",
    "`for k in range(i,j)`\n",
    "\n",
    " means that `k` will take the value of every integer between `i` and `j-1`"
   ]
  },
  {
   "cell_type": "markdown",
   "metadata": {
    "colab_type": "text",
    "id": "jtkUQWLCfa9E"
   },
   "source": [
    "#### &#x270d; 9.2) Compute the product of integers from 37 to 54 using a for loop and the range function."
   ]
  },
  {
   "cell_type": "code",
   "execution_count": 113,
   "metadata": {
    "colab": {
     "base_uri": "https://localhost:8080/",
     "height": 35
    },
    "colab_type": "code",
    "executionInfo": {
     "elapsed": 924,
     "status": "ok",
     "timestamp": 1589458396981,
     "user": {
      "displayName": "Enock Kipkemboi",
      "photoUrl": "https://lh3.googleusercontent.com/a-/AOh14GizCzsQESXPA2F3fIxqQDEIPrYFkqYplrS9IJE=s64",
      "userId": "12001580697035227328"
     },
     "user_tz": -180
    },
    "id": "ChTFJncb2V8y",
    "outputId": "9fc4e7fc-8c2b-4bfc-a297-9ad1ea3506c8"
   },
   "outputs": [
    {
     "name": "stdout",
     "output_type": "stream",
     "text": [
      "37\n",
      "38\n",
      "39\n",
      "40\n",
      "41\n",
      "42\n",
      "43\n",
      "44\n",
      "45\n",
      "46\n",
      "47\n",
      "48\n",
      "49\n",
      "50\n",
      "51\n",
      "52\n",
      "53\n"
     ]
    }
   ],
   "source": [
    "for k in range(37, 54):\n",
    "    print(k)"
   ]
  },
  {
   "cell_type": "markdown",
   "metadata": {
    "colab_type": "text",
    "id": "AYOSiVcA2V80"
   },
   "source": [
    "#### &#x270d; 9.3) Create a function which takes a list as input and returns the same list but elements are inverted (the first element becomes the last, etc)"
   ]
  },
  {
   "cell_type": "code",
   "execution_count": 115,
   "metadata": {
    "colab": {
     "base_uri": "https://localhost:8080/",
     "height": 35
    },
    "colab_type": "code",
    "executionInfo": {
     "elapsed": 997,
     "status": "ok",
     "timestamp": 1589458400933,
     "user": {
      "displayName": "Enock Kipkemboi",
      "photoUrl": "https://lh3.googleusercontent.com/a-/AOh14GizCzsQESXPA2F3fIxqQDEIPrYFkqYplrS9IJE=s64",
      "userId": "12001580697035227328"
     },
     "user_tz": -180
    },
    "id": "DeRe9iSl2V80",
    "outputId": "bbb321db-870e-4f2e-9fcd-432d3d842b08"
   },
   "outputs": [
    {
     "name": "stdout",
     "output_type": "stream",
     "text": [
      "The original string  is : The String To be reversed\n",
      "The reversed string(using loops) is : desrever eb oT gnirtS ehT\n"
     ]
    }
   ],
   "source": [
    "def reverse(s): \n",
    "  str = \"\" \n",
    "  for i in s: \n",
    "    str = i + str\n",
    "  return str\n",
    "  \n",
    "s = \"The String To be reversed\"\n",
    "  \n",
    "print (\"The original string  is : \",end=\"\") \n",
    "print (s) \n",
    "  \n",
    "print (\"The reversed string(using loops) is : \",end=\"\") \n",
    "print (reverse(s))"
   ]
  },
  {
   "cell_type": "markdown",
   "metadata": {
    "colab_type": "text",
    "id": "_paXik9W2V83"
   },
   "source": [
    "## 10) `If` statement"
   ]
  },
  {
   "cell_type": "markdown",
   "metadata": {
    "colab_type": "text",
    "id": "nQTKrsmy4QW3"
   },
   "source": [
    "#### &#x270d; 10.1) Test the function test with -5, 1, -1.7, 8, and interpret."
   ]
  },
  {
   "cell_type": "code",
   "execution_count": 116,
   "metadata": {
    "colab": {
     "base_uri": "https://localhost:8080/",
     "height": 90
    },
    "colab_type": "code",
    "executionInfo": {
     "elapsed": 901,
     "status": "ok",
     "timestamp": 1589458405619,
     "user": {
      "displayName": "Enock Kipkemboi",
      "photoUrl": "https://lh3.googleusercontent.com/a-/AOh14GizCzsQESXPA2F3fIxqQDEIPrYFkqYplrS9IJE=s64",
      "userId": "12001580697035227328"
     },
     "user_tz": -180
    },
    "id": "nlIoT-td2V83",
    "outputId": "648d53bc-c75c-46ae-b77b-a579acb094db"
   },
   "outputs": [],
   "source": [
    "def test(x):\n",
    "    if x**2 > -5 : #true/false\n",
    "        print(\"yes\")\n",
    "    else :\n",
    "        print(\"no\")\n",
    "\n"
   ]
  },
  {
   "cell_type": "markdown",
   "metadata": {
    "colab_type": "text",
    "id": "0o73Biu62V85"
   },
   "source": [
    "#### &#x270d; 10.2) Create a function which takes a list as input and returns a boolean, set to `True` if the first element is a string, an `False` otherwise."
   ]
  },
  {
   "cell_type": "code",
   "execution_count": null,
   "metadata": {
    "colab": {
     "base_uri": "https://localhost:8080/",
     "height": 35
    },
    "colab_type": "code",
    "executionInfo": {
     "elapsed": 1219,
     "status": "ok",
     "timestamp": 1589458409308,
     "user": {
      "displayName": "Enock Kipkemboi",
      "photoUrl": "https://lh3.googleusercontent.com/a-/AOh14GizCzsQESXPA2F3fIxqQDEIPrYFkqYplrS9IJE=s64",
      "userId": "12001580697035227328"
     },
     "user_tz": -180
    },
    "id": "_B0gwZ6A2V85",
    "outputId": "cd7adf82-79af-444f-a6a2-6617f1ca386e"
   },
   "outputs": [],
   "source": []
  },
  {
   "cell_type": "markdown",
   "metadata": {
    "colab_type": "text",
    "id": "pIKdGA-X2V87"
   },
   "source": [
    "#### &#x270d; 10.3) Create a function which takes a list as input and returns a boolean, set to `True` if there is a string in the list, and `False` otherwise.\n",
    "\n",
    "Hint : combine `for` and `if`."
   ]
  },
  {
   "cell_type": "code",
   "execution_count": null,
   "metadata": {
    "colab": {
     "base_uri": "https://localhost:8080/",
     "height": 35
    },
    "colab_type": "code",
    "executionInfo": {
     "elapsed": 1001,
     "status": "ok",
     "timestamp": 1589458412886,
     "user": {
      "displayName": "Enock Kipkemboi",
      "photoUrl": "https://lh3.googleusercontent.com/a-/AOh14GizCzsQESXPA2F3fIxqQDEIPrYFkqYplrS9IJE=s64",
      "userId": "12001580697035227328"
     },
     "user_tz": -180
    },
    "id": "HoNrSiZ02V87",
    "outputId": "5e77b326-eec5-4a73-91d9-ef3384d73fa5"
   },
   "outputs": [],
   "source": []
  },
  {
   "cell_type": "markdown",
   "metadata": {
    "colab_type": "text",
    "id": "-SMISRAN2V8-"
   },
   "source": [
    "## 11) `While` statement"
   ]
  },
  {
   "cell_type": "markdown",
   "metadata": {
    "colab_type": "text",
    "id": "9gdkz8Qj4u67"
   },
   "source": [
    "#### &#x270d; 11.1) Run the following cell and interpret."
   ]
  },
  {
   "cell_type": "code",
   "execution_count": 117,
   "metadata": {
    "colab": {
     "base_uri": "https://localhost:8080/",
     "height": 72
    },
    "colab_type": "code",
    "executionInfo": {
     "elapsed": 1011,
     "status": "ok",
     "timestamp": 1589458417947,
     "user": {
      "displayName": "Enock Kipkemboi",
      "photoUrl": "https://lh3.googleusercontent.com/a-/AOh14GizCzsQESXPA2F3fIxqQDEIPrYFkqYplrS9IJE=s64",
      "userId": "12001580697035227328"
     },
     "user_tz": -180
    },
    "id": "sf1Zhuvp2V8-",
    "outputId": "79353a7d-2af8-47f0-aa45-8e2f4182ebe1"
   },
   "outputs": [
    {
     "name": "stdout",
     "output_type": "stream",
     "text": [
      "16\n",
      "8.0\n",
      "4.0\n"
     ]
    }
   ],
   "source": [
    "x = 16\n",
    "while x > 3 :\n",
    "    print(x)\n",
    "    x = x / 2"
   ]
  },
  {
   "cell_type": "markdown",
   "metadata": {
    "colab_type": "text",
    "id": "IXibquaN2V9A"
   },
   "source": [
    "#### &#x270d; 11.2) Create a function which takes a list, and returns false if there is no string inside, and the index of the first string otherwise, using a while loop."
   ]
  },
  {
   "cell_type": "code",
   "execution_count": null,
   "metadata": {
    "colab": {
     "base_uri": "https://localhost:8080/",
     "height": 35
    },
    "colab_type": "code",
    "executionInfo": {
     "elapsed": 971,
     "status": "ok",
     "timestamp": 1589458421266,
     "user": {
      "displayName": "Enock Kipkemboi",
      "photoUrl": "https://lh3.googleusercontent.com/a-/AOh14GizCzsQESXPA2F3fIxqQDEIPrYFkqYplrS9IJE=s64",
      "userId": "12001580697035227328"
     },
     "user_tz": -180
    },
    "id": "95Bn6jr_2V9B",
    "outputId": "44302b1b-17bc-4eba-af6f-5301dbe20342"
   },
   "outputs": [],
   "source": []
  },
  {
   "cell_type": "code",
   "execution_count": null,
   "metadata": {},
   "outputs": [],
   "source": []
  },
  {
   "cell_type": "markdown",
   "metadata": {
    "colab_type": "text",
    "id": "XTUbrava2V9C"
   },
   "source": [
    "#### &#x270d; 11.3) Print the first integer whose squared value is more than 7533493"
   ]
  },
  {
   "cell_type": "code",
   "execution_count": null,
   "metadata": {
    "colab": {
     "base_uri": "https://localhost:8080/",
     "height": 35
    },
    "colab_type": "code",
    "executionInfo": {
     "elapsed": 1619,
     "status": "ok",
     "timestamp": 1589458424874,
     "user": {
      "displayName": "Enock Kipkemboi",
      "photoUrl": "https://lh3.googleusercontent.com/a-/AOh14GizCzsQESXPA2F3fIxqQDEIPrYFkqYplrS9IJE=s64",
      "userId": "12001580697035227328"
     },
     "user_tz": -180
    },
    "id": "EWTvWt302V9C",
    "outputId": "eeb26312-bbcd-4148-d0a2-72ddf0ff42d6"
   },
   "outputs": [],
   "source": []
  },
  {
   "cell_type": "markdown",
   "metadata": {
    "colab_type": "text",
    "id": "EISozSKE2V9E"
   },
   "source": [
    "## 12) Libraries import\n",
    "\n",
    "### &#x270d; 12.1) Import the library numpy, with the shortened name np.\n",
    "\n",
    "Remember : `import XXXXXX as YY` to import the module `XXXXXX` with the shortened name `YY`."
   ]
  },
  {
   "cell_type": "code",
   "execution_count": 121,
   "metadata": {
    "colab": {},
    "colab_type": "code",
    "id": "aLMRq1YG2V9F"
   },
   "outputs": [],
   "source": [
    "import numpy as np"
   ]
  },
  {
   "cell_type": "markdown",
   "metadata": {
    "colab_type": "text",
    "id": "rqm6zABj2V9I"
   },
   "source": [
    "Once a library is imported, all its functions are stored in the kernel and can be accessed.\n",
    "\n",
    "#### &#x270d; 12.2) Print the value of pi using the function pi in numpy.\n",
    "\n",
    "Remember : To use a function of a library imported as YY, use YY.function()"
   ]
  },
  {
   "cell_type": "code",
   "execution_count": 124,
   "metadata": {
    "colab": {
     "base_uri": "https://localhost:8080/",
     "height": 35
    },
    "colab_type": "code",
    "executionInfo": {
     "elapsed": 982,
     "status": "ok",
     "timestamp": 1589458432126,
     "user": {
      "displayName": "Enock Kipkemboi",
      "photoUrl": "https://lh3.googleusercontent.com/a-/AOh14GizCzsQESXPA2F3fIxqQDEIPrYFkqYplrS9IJE=s64",
      "userId": "12001580697035227328"
     },
     "user_tz": -180
    },
    "id": "PefceTOU2V9J",
    "outputId": "5cb2f900-e6a8-45dd-8794-da79eab6007a"
   },
   "outputs": [
    {
     "data": {
      "text/plain": [
       "3.141592653589793"
      ]
     },
     "execution_count": 124,
     "metadata": {},
     "output_type": "execute_result"
    }
   ],
   "source": [
    "pi = np.pi\n",
    "pi"
   ]
  },
  {
   "cell_type": "markdown",
   "metadata": {
    "colab_type": "text",
    "id": "8bBBQuRy2V9K"
   },
   "source": [
    "## 13) Numpy"
   ]
  },
  {
   "cell_type": "markdown",
   "metadata": {
    "colab_type": "text",
    "id": "68_m5mPT5g6B"
   },
   "source": [
    "#### &#x270d; 13.1) Create an array containing the integers from 0 to 9"
   ]
  },
  {
   "cell_type": "code",
   "execution_count": 125,
   "metadata": {
    "colab": {
     "base_uri": "https://localhost:8080/",
     "height": 35
    },
    "colab_type": "code",
    "executionInfo": {
     "elapsed": 1376,
     "status": "ok",
     "timestamp": 1589458436040,
     "user": {
      "displayName": "Enock Kipkemboi",
      "photoUrl": "https://lh3.googleusercontent.com/a-/AOh14GizCzsQESXPA2F3fIxqQDEIPrYFkqYplrS9IJE=s64",
      "userId": "12001580697035227328"
     },
     "user_tz": -180
    },
    "id": "ZhY-4JQ72V9K",
    "outputId": "03b7a626-fecd-4d1f-e236-6e209b4a9b91"
   },
   "outputs": [
    {
     "name": "stdout",
     "output_type": "stream",
     "text": [
      "[0 1 2 3 4 5 6 7 8 9]\n"
     ]
    }
   ],
   "source": [
    "arr = np.array([0, 1, 2, 3, 4, 5, 6, 7, 8, 9])\n",
    "\n",
    "print(arr)"
   ]
  },
  {
   "cell_type": "markdown",
   "metadata": {
    "colab_type": "text",
    "id": "H8YSqSFu2V9M"
   },
   "source": [
    "#### &#x270d; 13.2) Create a 10x10 matrix name M, use arange and reshape"
   ]
  },
  {
   "cell_type": "code",
   "execution_count": 126,
   "metadata": {
    "colab": {
     "base_uri": "https://localhost:8080/",
     "height": 201
    },
    "colab_type": "code",
    "executionInfo": {
     "elapsed": 686,
     "status": "ok",
     "timestamp": 1589458437917,
     "user": {
      "displayName": "Enock Kipkemboi",
      "photoUrl": "https://lh3.googleusercontent.com/a-/AOh14GizCzsQESXPA2F3fIxqQDEIPrYFkqYplrS9IJE=s64",
      "userId": "12001580697035227328"
     },
     "user_tz": -180
    },
    "id": "cYTotx5_2V9N",
    "outputId": "ace845f9-a206-4d98-9abf-6f547b7b3588"
   },
   "outputs": [
    {
     "name": "stdout",
     "output_type": "stream",
     "text": [
      "[[0.5757543  0.55005687 0.93339868 0.68006972 0.12863182 0.97887172\n",
      "  0.90261551 0.6205993  0.64428114 0.01665926]\n",
      " [0.48120746 0.47431547 0.78824216 0.06918137 0.76707229 0.74062004\n",
      "  0.79206006 0.98367348 0.08615552 0.93554057]\n",
      " [0.02469638 0.20801288 0.07322029 0.18855577 0.7705769  0.16038994\n",
      "  0.94628664 0.53226626 0.16277958 0.7380185 ]\n",
      " [0.54864661 0.83269022 0.82129033 0.60682497 0.38078064 0.29677486\n",
      "  0.33822887 0.65514967 0.20905579 0.51164197]\n",
      " [0.57147006 0.21104274 0.25661576 0.57388259 0.12723839 0.8858369\n",
      "  0.17270516 0.65275381 0.22544264 0.14344637]\n",
      " [0.11561998 0.79368976 0.79521341 0.59286152 0.63242322 0.43717404\n",
      "  0.47921474 0.31116176 0.34246043 0.17197375]\n",
      " [0.25175261 0.85484999 0.79146749 0.68943229 0.53978021 0.86348877\n",
      "  0.52987913 0.51477118 0.95504903 0.70180609]\n",
      " [0.33220775 0.5363314  0.70013831 0.17385229 0.65000561 0.29543099\n",
      "  0.86697894 0.25624995 0.07197663 0.76416896]\n",
      " [0.00447787 0.6084102  0.31898126 0.41037921 0.13318952 0.31646644\n",
      "  0.28876778 0.52744284 0.34625371 0.78288234]\n",
      " [0.70517286 0.18057347 0.17853762 0.90309599 0.21500443 0.95321933\n",
      "  0.17479149 0.37919577 0.23144011 0.87287086]]\n"
     ]
    }
   ],
   "source": [
    "M = np.random.random((10,10))\n",
    "print(M)"
   ]
  },
  {
   "cell_type": "markdown",
   "metadata": {
    "colab_type": "text",
    "id": "i5_yY2Mb2V9S"
   },
   "source": [
    "#### &#x270d; 13.4) Compute the sum of the lists X and Y without using the function for."
   ]
  },
  {
   "cell_type": "code",
   "execution_count": 127,
   "metadata": {
    "colab": {
     "base_uri": "https://localhost:8080/",
     "height": 72
    },
    "colab_type": "code",
    "executionInfo": {
     "elapsed": 796,
     "status": "ok",
     "timestamp": 1589458443760,
     "user": {
      "displayName": "Enock Kipkemboi",
      "photoUrl": "https://lh3.googleusercontent.com/a-/AOh14GizCzsQESXPA2F3fIxqQDEIPrYFkqYplrS9IJE=s64",
      "userId": "12001580697035227328"
     },
     "user_tz": -180
    },
    "id": "Fkdkw2c62V9T",
    "outputId": "a10ab7fc-d51f-481a-871c-84940d53355f"
   },
   "outputs": [
    {
     "name": "stdout",
     "output_type": "stream",
     "text": [
      "[1 2 3 4 5 6]\n"
     ]
    }
   ],
   "source": [
    "import numpy as np\n",
    "\n",
    "X = np.array([1, 2, 3])\n",
    "\n",
    "Y = np.array([4, 5, 6])\n",
    "\n",
    "arr = np.concatenate((X, Y))\n",
    "\n",
    "print(arr)"
   ]
  },
  {
   "cell_type": "markdown",
   "metadata": {
    "colab_type": "text",
    "id": "FBaLZ4b_2V9V"
   },
   "source": [
    "#### &#x270d; 13.5) Compute the scalar product of X and Y.\n",
    "\n",
    "Hint : the numpy function is `dot`.\n",
    "\n",
    "A square matrix, in which all diagonal elements are equal to same scalar and all other elements are zero, is called a scalar matrix. Or. A diagonal matrix, in which all diagonal elements are equal to same scalar, is called a scalar matrix. A."
   ]
  },
  {
   "cell_type": "code",
   "execution_count": 129,
   "metadata": {
    "colab": {
     "base_uri": "https://localhost:8080/",
     "height": 35
    },
    "colab_type": "code",
    "executionInfo": {
     "elapsed": 987,
     "status": "ok",
     "timestamp": 1589458446596,
     "user": {
      "displayName": "Enock Kipkemboi",
      "photoUrl": "https://lh3.googleusercontent.com/a-/AOh14GizCzsQESXPA2F3fIxqQDEIPrYFkqYplrS9IJE=s64",
      "userId": "12001580697035227328"
     },
     "user_tz": -180
    },
    "id": "5BgC2T4M2V9W",
    "outputId": "af16162c-5ceb-4dc9-b956-5823d9f29493"
   },
   "outputs": [
    {
     "data": {
      "text/plain": [
       "32"
      ]
     },
     "execution_count": 129,
     "metadata": {},
     "output_type": "execute_result"
    }
   ],
   "source": [
    "np.dot(X,Y)"
   ]
  },
  {
   "cell_type": "markdown",
   "metadata": {
    "colab_type": "text",
    "id": "GPQHS9oX2V9b"
   },
   "source": [
    "## 14) Pandas\n",
    "\n",
    "In Pandas, we work with dataframes. Let's create one to see how it works."
   ]
  },
  {
   "cell_type": "markdown",
   "metadata": {
    "colab_type": "text",
    "id": "LC6rMtmU6CLD"
   },
   "source": [
    "#### &#x270d; 14.1) Import the pandas module, with pd as shortened name, and the random module. "
   ]
  },
  {
   "cell_type": "code",
   "execution_count": 157,
   "metadata": {
    "colab": {},
    "colab_type": "code",
    "id": "xX_ZlyBO2V9b"
   },
   "outputs": [],
   "source": [
    "import pandas as pd\n",
    "import numpy as np"
   ]
  },
  {
   "cell_type": "markdown",
   "metadata": {
    "colab_type": "text",
    "id": "seuGVMG22V9d"
   },
   "source": [
    "#### &#x270d; 14.2) Create 5 lists composed of 4 random numbers between 1 and 100 and a string as final element.\n",
    "\n",
    "Use random.randint(i,n) from numpy to get a list of n random numbers between 0 and i-1."
   ]
  },
  {
   "cell_type": "code",
   "execution_count": 177,
   "metadata": {
    "colab": {
     "base_uri": "https://localhost:8080/",
     "height": 55
    },
    "colab_type": "code",
    "executionInfo": {
     "elapsed": 1165,
     "status": "ok",
     "timestamp": 1589458670438,
     "user": {
      "displayName": "Enock Kipkemboi",
      "photoUrl": "https://lh3.googleusercontent.com/a-/AOh14GizCzsQESXPA2F3fIxqQDEIPrYFkqYplrS9IJE=s64",
      "userId": "12001580697035227328"
     },
     "user_tz": -180
    },
    "id": "JsQteYRS2V9d",
    "outputId": "87f75dc6-ed1d-4cb3-ef0b-19d51a81ea22"
   },
   "outputs": [
    {
     "name": "stdout",
     "output_type": "stream",
     "text": [
      "   F1\n",
      "0  25\n",
      "1  22\n",
      "2  16\n",
      "3  10\n",
      "4  26\n",
      "5  19\n",
      "6  24\n",
      "7  14\n",
      "8  25\n",
      "9  10\n"
     ]
    }
   ],
   "source": [
    "data = np.random.randint(5,30,size=10)\n",
    "df = pd.DataFrame(data, columns=['F1'])\n",
    "\n",
    "print(df)\n",
    "\n",
    "# df = pd.DataFrame(np.random.randint(0,100,size=(100, 4)), columns=list('ABCD'))"
   ]
  },
  {
   "cell_type": "markdown",
   "metadata": {
    "colab_type": "text",
    "id": "GDMBmsd32V9f"
   },
   "source": [
    "#### &#x270d; 14.3) Create a dataframe named data, composed of these 5 lists. We will call the columns F1, F2, F3, F4 and STR.\n",
    "\n"
   ]
  },
  {
   "cell_type": "code",
   "execution_count": 191,
   "metadata": {
    "colab": {
     "base_uri": "https://localhost:8080/",
     "height": 206
    },
    "colab_type": "code",
    "executionInfo": {
     "elapsed": 1369,
     "status": "ok",
     "timestamp": 1589458456198,
     "user": {
      "displayName": "Enock Kipkemboi",
      "photoUrl": "https://lh3.googleusercontent.com/a-/AOh14GizCzsQESXPA2F3fIxqQDEIPrYFkqYplrS9IJE=s64",
      "userId": "12001580697035227328"
     },
     "user_tz": -180
    },
    "id": "4--JGyNz2V9f",
    "outputId": "e7d76f0d-b791-4136-e3be-06d9d2464583"
   },
   "outputs": [
    {
     "data": {
      "text/html": [
       "<div>\n",
       "<style scoped>\n",
       "    .dataframe tbody tr th:only-of-type {\n",
       "        vertical-align: middle;\n",
       "    }\n",
       "\n",
       "    .dataframe tbody tr th {\n",
       "        vertical-align: top;\n",
       "    }\n",
       "\n",
       "    .dataframe thead th {\n",
       "        text-align: right;\n",
       "    }\n",
       "</style>\n",
       "<table border=\"1\" class=\"dataframe\">\n",
       "  <thead>\n",
       "    <tr style=\"text-align: right;\">\n",
       "      <th></th>\n",
       "      <th>F1</th>\n",
       "      <th>F2</th>\n",
       "      <th>F3</th>\n",
       "      <th>F4</th>\n",
       "      <th>STR</th>\n",
       "    </tr>\n",
       "  </thead>\n",
       "  <tbody>\n",
       "    <tr>\n",
       "      <td>0</td>\n",
       "      <td>-0.779312</td>\n",
       "      <td>2.509836</td>\n",
       "      <td>0.928342</td>\n",
       "      <td>-0.909764</td>\n",
       "      <td>-0.488716</td>\n",
       "    </tr>\n",
       "    <tr>\n",
       "      <td>1</td>\n",
       "      <td>-0.397890</td>\n",
       "      <td>0.553348</td>\n",
       "      <td>-1.174959</td>\n",
       "      <td>1.534847</td>\n",
       "      <td>0.233664</td>\n",
       "    </tr>\n",
       "    <tr>\n",
       "      <td>2</td>\n",
       "      <td>-1.895684</td>\n",
       "      <td>-0.524575</td>\n",
       "      <td>0.049996</td>\n",
       "      <td>-1.166536</td>\n",
       "      <td>-0.160575</td>\n",
       "    </tr>\n",
       "    <tr>\n",
       "      <td>3</td>\n",
       "      <td>-0.898161</td>\n",
       "      <td>1.260797</td>\n",
       "      <td>0.007961</td>\n",
       "      <td>0.192886</td>\n",
       "      <td>0.224885</td>\n",
       "    </tr>\n",
       "    <tr>\n",
       "      <td>4</td>\n",
       "      <td>0.416375</td>\n",
       "      <td>0.376015</td>\n",
       "      <td>-0.906487</td>\n",
       "      <td>1.224524</td>\n",
       "      <td>-0.064446</td>\n",
       "    </tr>\n",
       "  </tbody>\n",
       "</table>\n",
       "</div>"
      ],
      "text/plain": [
       "         F1        F2        F3        F4       STR\n",
       "0 -0.779312  2.509836  0.928342 -0.909764 -0.488716\n",
       "1 -0.397890  0.553348 -1.174959  1.534847  0.233664\n",
       "2 -1.895684 -0.524575  0.049996 -1.166536 -0.160575\n",
       "3 -0.898161  1.260797  0.007961  0.192886  0.224885\n",
       "4  0.416375  0.376015 -0.906487  1.224524 -0.064446"
      ]
     },
     "execution_count": 191,
     "metadata": {},
     "output_type": "execute_result"
    }
   ],
   "source": [
    "from numpy.random import randn\n",
    "data = pd.DataFrame(randn(5,5),columns='F1 F2 F3 F4 STR'.split())\n",
    "data"
   ]
  },
  {
   "cell_type": "markdown",
   "metadata": {
    "colab_type": "text",
    "id": "7848C-L82V9h"
   },
   "source": [
    "#### &#x270d; 14.4) Print the STR feature of each element."
   ]
  },
  {
   "cell_type": "code",
   "execution_count": 195,
   "metadata": {
    "colab": {
     "base_uri": "https://localhost:8080/",
     "height": 127
    },
    "colab_type": "code",
    "executionInfo": {
     "elapsed": 1206,
     "status": "ok",
     "timestamp": 1589458458744,
     "user": {
      "displayName": "Enock Kipkemboi",
      "photoUrl": "https://lh3.googleusercontent.com/a-/AOh14GizCzsQESXPA2F3fIxqQDEIPrYFkqYplrS9IJE=s64",
      "userId": "12001580697035227328"
     },
     "user_tz": -180
    },
    "id": "RBQcC7Ib2V9h",
    "outputId": "4dce1077-b90b-441a-e077-87d07f3606e7"
   },
   "outputs": [
    {
     "ename": "KeyError",
     "evalue": "\"None of [Index(['F4', 'STR'], dtype='object')] are in the [columns]\"",
     "output_type": "error",
     "traceback": [
      "\u001b[1;31m---------------------------------------------------------------------------\u001b[0m",
      "\u001b[1;31mKeyError\u001b[0m                                  Traceback (most recent call last)",
      "\u001b[1;32m<ipython-input-195-8fe909c87c06>\u001b[0m in \u001b[0;36m<module>\u001b[1;34m\u001b[0m\n\u001b[1;32m----> 1\u001b[1;33m \u001b[0mdf\u001b[0m\u001b[1;33m[\u001b[0m\u001b[1;33m[\u001b[0m\u001b[1;34m'F4'\u001b[0m\u001b[1;33m,\u001b[0m\u001b[1;34m'STR'\u001b[0m\u001b[1;33m]\u001b[0m\u001b[1;33m]\u001b[0m\u001b[1;33m\u001b[0m\u001b[1;33m\u001b[0m\u001b[0m\n\u001b[0m",
      "\u001b[1;32mC:\\ProgramData\\Anaconda3\\lib\\site-packages\\pandas\\core\\frame.py\u001b[0m in \u001b[0;36m__getitem__\u001b[1;34m(self, key)\u001b[0m\n\u001b[0;32m   2984\u001b[0m             \u001b[1;32mif\u001b[0m \u001b[0mis_iterator\u001b[0m\u001b[1;33m(\u001b[0m\u001b[0mkey\u001b[0m\u001b[1;33m)\u001b[0m\u001b[1;33m:\u001b[0m\u001b[1;33m\u001b[0m\u001b[1;33m\u001b[0m\u001b[0m\n\u001b[0;32m   2985\u001b[0m                 \u001b[0mkey\u001b[0m \u001b[1;33m=\u001b[0m \u001b[0mlist\u001b[0m\u001b[1;33m(\u001b[0m\u001b[0mkey\u001b[0m\u001b[1;33m)\u001b[0m\u001b[1;33m\u001b[0m\u001b[1;33m\u001b[0m\u001b[0m\n\u001b[1;32m-> 2986\u001b[1;33m             \u001b[0mindexer\u001b[0m \u001b[1;33m=\u001b[0m \u001b[0mself\u001b[0m\u001b[1;33m.\u001b[0m\u001b[0mloc\u001b[0m\u001b[1;33m.\u001b[0m\u001b[0m_convert_to_indexer\u001b[0m\u001b[1;33m(\u001b[0m\u001b[0mkey\u001b[0m\u001b[1;33m,\u001b[0m \u001b[0maxis\u001b[0m\u001b[1;33m=\u001b[0m\u001b[1;36m1\u001b[0m\u001b[1;33m,\u001b[0m \u001b[0mraise_missing\u001b[0m\u001b[1;33m=\u001b[0m\u001b[1;32mTrue\u001b[0m\u001b[1;33m)\u001b[0m\u001b[1;33m\u001b[0m\u001b[1;33m\u001b[0m\u001b[0m\n\u001b[0m\u001b[0;32m   2987\u001b[0m \u001b[1;33m\u001b[0m\u001b[0m\n\u001b[0;32m   2988\u001b[0m         \u001b[1;31m# take() does not accept boolean indexers\u001b[0m\u001b[1;33m\u001b[0m\u001b[1;33m\u001b[0m\u001b[1;33m\u001b[0m\u001b[0m\n",
      "\u001b[1;32mC:\\ProgramData\\Anaconda3\\lib\\site-packages\\pandas\\core\\indexing.py\u001b[0m in \u001b[0;36m_convert_to_indexer\u001b[1;34m(self, obj, axis, is_setter, raise_missing)\u001b[0m\n\u001b[0;32m   1283\u001b[0m                 \u001b[1;31m# When setting, missing keys are not allowed, even with .loc:\u001b[0m\u001b[1;33m\u001b[0m\u001b[1;33m\u001b[0m\u001b[1;33m\u001b[0m\u001b[0m\n\u001b[0;32m   1284\u001b[0m                 \u001b[0mkwargs\u001b[0m \u001b[1;33m=\u001b[0m \u001b[1;33m{\u001b[0m\u001b[1;34m\"raise_missing\"\u001b[0m\u001b[1;33m:\u001b[0m \u001b[1;32mTrue\u001b[0m \u001b[1;32mif\u001b[0m \u001b[0mis_setter\u001b[0m \u001b[1;32melse\u001b[0m \u001b[0mraise_missing\u001b[0m\u001b[1;33m}\u001b[0m\u001b[1;33m\u001b[0m\u001b[1;33m\u001b[0m\u001b[0m\n\u001b[1;32m-> 1285\u001b[1;33m                 \u001b[1;32mreturn\u001b[0m \u001b[0mself\u001b[0m\u001b[1;33m.\u001b[0m\u001b[0m_get_listlike_indexer\u001b[0m\u001b[1;33m(\u001b[0m\u001b[0mobj\u001b[0m\u001b[1;33m,\u001b[0m \u001b[0maxis\u001b[0m\u001b[1;33m,\u001b[0m \u001b[1;33m**\u001b[0m\u001b[0mkwargs\u001b[0m\u001b[1;33m)\u001b[0m\u001b[1;33m[\u001b[0m\u001b[1;36m1\u001b[0m\u001b[1;33m]\u001b[0m\u001b[1;33m\u001b[0m\u001b[1;33m\u001b[0m\u001b[0m\n\u001b[0m\u001b[0;32m   1286\u001b[0m         \u001b[1;32melse\u001b[0m\u001b[1;33m:\u001b[0m\u001b[1;33m\u001b[0m\u001b[1;33m\u001b[0m\u001b[0m\n\u001b[0;32m   1287\u001b[0m             \u001b[1;32mtry\u001b[0m\u001b[1;33m:\u001b[0m\u001b[1;33m\u001b[0m\u001b[1;33m\u001b[0m\u001b[0m\n",
      "\u001b[1;32mC:\\ProgramData\\Anaconda3\\lib\\site-packages\\pandas\\core\\indexing.py\u001b[0m in \u001b[0;36m_get_listlike_indexer\u001b[1;34m(self, key, axis, raise_missing)\u001b[0m\n\u001b[0;32m   1090\u001b[0m \u001b[1;33m\u001b[0m\u001b[0m\n\u001b[0;32m   1091\u001b[0m         self._validate_read_indexer(\n\u001b[1;32m-> 1092\u001b[1;33m             \u001b[0mkeyarr\u001b[0m\u001b[1;33m,\u001b[0m \u001b[0mindexer\u001b[0m\u001b[1;33m,\u001b[0m \u001b[0mo\u001b[0m\u001b[1;33m.\u001b[0m\u001b[0m_get_axis_number\u001b[0m\u001b[1;33m(\u001b[0m\u001b[0maxis\u001b[0m\u001b[1;33m)\u001b[0m\u001b[1;33m,\u001b[0m \u001b[0mraise_missing\u001b[0m\u001b[1;33m=\u001b[0m\u001b[0mraise_missing\u001b[0m\u001b[1;33m\u001b[0m\u001b[1;33m\u001b[0m\u001b[0m\n\u001b[0m\u001b[0;32m   1093\u001b[0m         )\n\u001b[0;32m   1094\u001b[0m         \u001b[1;32mreturn\u001b[0m \u001b[0mkeyarr\u001b[0m\u001b[1;33m,\u001b[0m \u001b[0mindexer\u001b[0m\u001b[1;33m\u001b[0m\u001b[1;33m\u001b[0m\u001b[0m\n",
      "\u001b[1;32mC:\\ProgramData\\Anaconda3\\lib\\site-packages\\pandas\\core\\indexing.py\u001b[0m in \u001b[0;36m_validate_read_indexer\u001b[1;34m(self, key, indexer, axis, raise_missing)\u001b[0m\n\u001b[0;32m   1175\u001b[0m                 raise KeyError(\n\u001b[0;32m   1176\u001b[0m                     \"None of [{key}] are in the [{axis}]\".format(\n\u001b[1;32m-> 1177\u001b[1;33m                         \u001b[0mkey\u001b[0m\u001b[1;33m=\u001b[0m\u001b[0mkey\u001b[0m\u001b[1;33m,\u001b[0m \u001b[0maxis\u001b[0m\u001b[1;33m=\u001b[0m\u001b[0mself\u001b[0m\u001b[1;33m.\u001b[0m\u001b[0mobj\u001b[0m\u001b[1;33m.\u001b[0m\u001b[0m_get_axis_name\u001b[0m\u001b[1;33m(\u001b[0m\u001b[0maxis\u001b[0m\u001b[1;33m)\u001b[0m\u001b[1;33m\u001b[0m\u001b[1;33m\u001b[0m\u001b[0m\n\u001b[0m\u001b[0;32m   1178\u001b[0m                     )\n\u001b[0;32m   1179\u001b[0m                 )\n",
      "\u001b[1;31mKeyError\u001b[0m: \"None of [Index(['F4', 'STR'], dtype='object')] are in the [columns]\""
     ]
    }
   ],
   "source": [
    "df[['F4','STR']]"
   ]
  },
  {
   "cell_type": "markdown",
   "metadata": {
    "colab_type": "text",
    "id": "UYn0t2Du2V9i"
   },
   "source": [
    "#### &#x270d; 14.5) Create a new dataframe composed of the rows 1, 3 and 4 of data. Compute its F3 mean.\n",
    "\n"
   ]
  },
  {
   "cell_type": "code",
   "execution_count": null,
   "metadata": {
    "colab": {
     "base_uri": "https://localhost:8080/",
     "height": 384
    },
    "colab_type": "code",
    "executionInfo": {
     "elapsed": 1557,
     "status": "error",
     "timestamp": 1589458462503,
     "user": {
      "displayName": "Enock Kipkemboi",
      "photoUrl": "https://lh3.googleusercontent.com/a-/AOh14GizCzsQESXPA2F3fIxqQDEIPrYFkqYplrS9IJE=s64",
      "userId": "12001580697035227328"
     },
     "user_tz": -180
    },
    "id": "Hcckp1NB2V9j",
    "outputId": "81231500-2f9a-4d65-c23c-f33ecc8f37ca"
   },
   "outputs": [],
   "source": []
  },
  {
   "cell_type": "markdown",
   "metadata": {
    "colab_type": "text",
    "id": "rS-AYPFN2V9p"
   },
   "source": [
    "#### &#x270d; 14.6) Let's go back to the dataframe `data`. Create a new dataframe composed of the daqta rows where F1 > 40.\n",
    "\n"
   ]
  },
  {
   "cell_type": "code",
   "execution_count": null,
   "metadata": {
    "colab": {
     "base_uri": "https://localhost:8080/",
     "height": 90
    },
    "colab_type": "code",
    "executionInfo": {
     "elapsed": 1375,
     "status": "ok",
     "timestamp": 1589458465801,
     "user": {
      "displayName": "Enock Kipkemboi",
      "photoUrl": "https://lh3.googleusercontent.com/a-/AOh14GizCzsQESXPA2F3fIxqQDEIPrYFkqYplrS9IJE=s64",
      "userId": "12001580697035227328"
     },
     "user_tz": -180
    },
    "id": "n6O-xRIS2V9p",
    "outputId": "b92d0617-d34d-48e0-cdb9-f6af41dda53b"
   },
   "outputs": [],
   "source": []
  },
  {
   "cell_type": "code",
   "execution_count": null,
   "metadata": {
    "colab": {},
    "colab_type": "code",
    "id": "qRzWHUOqG2th"
   },
   "outputs": [],
   "source": []
  },
  {
   "cell_type": "code",
   "execution_count": null,
   "metadata": {},
   "outputs": [],
   "source": []
  },
  {
   "cell_type": "code",
   "execution_count": null,
   "metadata": {},
   "outputs": [],
   "source": []
  },
  {
   "cell_type": "code",
   "execution_count": null,
   "metadata": {},
   "outputs": [],
   "source": []
  }
 ],
 "metadata": {
  "colab": {
   "name": "A1.3.7 - Exercises, part1 - teachers' sheet.ipynb",
   "provenance": [],
   "toc_visible": true
  },
  "kernelspec": {
   "display_name": "Python 3",
   "language": "python",
   "name": "python3"
  },
  "language_info": {
   "codemirror_mode": {
    "name": "ipython",
    "version": 3
   },
   "file_extension": ".py",
   "mimetype": "text/x-python",
   "name": "python",
   "nbconvert_exporter": "python",
   "pygments_lexer": "ipython3",
   "version": "3.7.4"
  }
 },
 "nbformat": 4,
 "nbformat_minor": 1
}
